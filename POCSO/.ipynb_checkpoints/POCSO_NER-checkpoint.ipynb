{
 "cells": [
  {
   "cell_type": "code",
   "execution_count": 1,
   "id": "44e20854",
   "metadata": {},
   "outputs": [],
   "source": [
    "import pytesseract\n",
    "from PIL import Image, ImageEnhance, ImageFilter\n",
    "from pdf2image import convert_from_path\n",
    "import glob\n",
    "from natsort import natsorted\n",
    "\n",
    "from opennyai import Pipeline\n",
    "from opennyai.utils import Data\n",
    "from opennyai.ner import get_unique_provision_count\n",
    "\n",
    "import pandas as pd\n",
    "from tqdm import tqdm\n",
    "import json\n",
    "\n",
    "\n",
    "import shutil\n",
    "import os\n",
    "os.environ[\"TOKENIZERS_PARALLELISM\"] = \"false\""
   ]
  },
  {
   "cell_type": "markdown",
   "id": "e293bfb6",
   "metadata": {},
   "source": [
    "# Sample POCSO Judgement"
   ]
  },
  {
   "cell_type": "code",
   "execution_count": null,
   "id": "b7f71cd6",
   "metadata": {},
   "outputs": [],
   "source": [
    "pdf = \"sample.pdf\"\n",
    "pages = convert_from_path(pdf, 350)\n",
    "\n",
    "i = 1\n",
    "for page in pages:\n",
    "    image_name = \"Page_\" + str(i) + \".jpg\"  \n",
    "    page.save(image_name, \"JPEG\")\n",
    "    i = i+1   "
   ]
  },
  {
   "cell_type": "code",
   "execution_count": null,
   "id": "d02906d4",
   "metadata": {},
   "outputs": [],
   "source": [
    "pics = glob.glob(\"*.jpg\")\n",
    "pics = natsorted(pics)"
   ]
  },
  {
   "cell_type": "code",
   "execution_count": null,
   "id": "b9b94fca",
   "metadata": {},
   "outputs": [],
   "source": [
    "judgement_text = ''\n",
    "for pic in pics:\n",
    "    text = pytesseract.image_to_string(Image.open(pic))\n",
    "    #os.remove(pic)\n",
    "    judgement_text = judgement_text + text"
   ]
  },
  {
   "cell_type": "code",
   "execution_count": null,
   "id": "aef20b2b",
   "metadata": {},
   "outputs": [],
   "source": [
    "#print(judgement_text)"
   ]
  },
  {
   "cell_type": "code",
   "execution_count": null,
   "id": "df084300",
   "metadata": {},
   "outputs": [],
   "source": [
    "# you can also load your text files directly into this\n",
    "judgement_text = open('sample.txt').read()\n",
    "\n",
    "texts_to_process = [judgement_text]"
   ]
  },
  {
   "cell_type": "code",
   "execution_count": null,
   "id": "070ae980",
   "metadata": {},
   "outputs": [],
   "source": [
    "# create Data object for data  preprocessing before running ML models\n",
    "data = Data(texts_to_process, preprocessing_nlp_model='en_core_web_trf')"
   ]
  },
  {
   "cell_type": "code",
   "execution_count": null,
   "id": "74cd06c7",
   "metadata": {},
   "outputs": [],
   "source": [
    "# If you have access to GPU then set this to True else False\n",
    "use_gpu = False"
   ]
  },
  {
   "cell_type": "code",
   "execution_count": null,
   "id": "34b109c7",
   "metadata": {},
   "outputs": [],
   "source": [
    "# Load NER model\n",
    "pipeline = Pipeline(components=['NER'], use_gpu=use_gpu, verbose=True,\n",
    "                   ner_model_name='en_legal_ner_trf',\n",
    "                   ner_mini_batch_size=40000,\n",
    "                   ner_do_sentence_level=True,\n",
    "                   ner_do_postprocess=True,\n",
    "                   ner_statute_shortforms_path='')"
   ]
  },
  {
   "cell_type": "code",
   "execution_count": null,
   "id": "a68fee4a",
   "metadata": {},
   "outputs": [],
   "source": [
    "#Apply NER pipeline over the data\n",
    "results = pipeline(data)"
   ]
  },
  {
   "cell_type": "code",
   "execution_count": null,
   "id": "4de57801",
   "metadata": {},
   "outputs": [],
   "source": [
    "# Export the results to a json file\n",
    "import json\n",
    "with open('output.json','w') as f:\n",
    "     json.dump(results,f,indent=4)"
   ]
  },
  {
   "cell_type": "code",
   "execution_count": null,
   "id": "bb4768d5",
   "metadata": {},
   "outputs": [],
   "source": [
    "ner_doc_1 = pipeline._ner_model_output[0]"
   ]
  },
  {
   "cell_type": "code",
   "execution_count": null,
   "id": "ff73372d",
   "metadata": {},
   "outputs": [],
   "source": [
    "# Frequency count of all provisions in a judgement\n",
    "provisions=get_unique_provision_count(ner_doc_1)\n",
    "provisions"
   ]
  },
  {
   "cell_type": "code",
   "execution_count": null,
   "id": "eb1e6f61",
   "metadata": {},
   "outputs": [],
   "source": [
    "# Frequency count of all statues in a judgement\n",
    "from opennyai.ner import get_unique_statute_count\n",
    "statutes=get_unique_statute_count(ner_doc_1)\n",
    "statutes"
   ]
  },
  {
   "cell_type": "code",
   "execution_count": null,
   "id": "5b490a23",
   "metadata": {},
   "outputs": [],
   "source": [
    "# Saving NER Results\n",
    "from opennyai.ner import get_csv\n",
    "get_csv(ner_doc_1,'sample_judgement1_NER.csv', save_path=r\"/home/krishna/NLP_Justice/POCSO/sample_judgement1_NER.csv\")"
   ]
  },
  {
   "cell_type": "code",
   "execution_count": null,
   "id": "ddda920f",
   "metadata": {},
   "outputs": [],
   "source": [
    "# Frequency count of all precendents in a judgement\n",
    "from opennyai.ner import get_unique_precedent_count\n",
    "import opennyai.ner as InLegalNER\n",
    "\n",
    "precedents=InLegalNER.get_unique_precedent_count(ner_doc_1)\n",
    "precedents"
   ]
  },
  {
   "cell_type": "code",
   "execution_count": null,
   "id": "d5984ec8",
   "metadata": {},
   "outputs": [],
   "source": [
    "ner_doc_1 = pipeline._ner_model_output[0]\n",
    "identified_entites = [(ent, ent.label_) for ent in ner_doc_1.ents]\n",
    "identified_entites"
   ]
  },
  {
   "cell_type": "code",
   "execution_count": null,
   "id": "77f7e8cb",
   "metadata": {},
   "outputs": [],
   "source": [
    "ner_doc_1.user_data['precedent_clusters']"
   ]
  },
  {
   "cell_type": "code",
   "execution_count": null,
   "id": "31beb6a5",
   "metadata": {},
   "outputs": [],
   "source": [
    "with open('sample.txt', 'w') as f:\n",
    "    f.write(judgement_text)"
   ]
  },
  {
   "cell_type": "markdown",
   "id": "04f0263a",
   "metadata": {},
   "source": [
    "# All judgements"
   ]
  },
  {
   "cell_type": "code",
   "execution_count": null,
   "id": "73def7a4",
   "metadata": {},
   "outputs": [],
   "source": [
    "judgement_paths_assam = []\n",
    "path =\"Assam\"\n",
    "for root, dirs, files in os.walk(path):\n",
    "    for file in files:\n",
    "        if(file.endswith(\".pdf\")):\n",
    "            judgement_paths_assam.append(os.path.join(root,file))"
   ]
  },
  {
   "cell_type": "code",
   "execution_count": null,
   "id": "6370e2dd",
   "metadata": {},
   "outputs": [],
   "source": [
    "judgements = []\n",
    "for judgement in judgement_paths_assam:\n",
    "    if ('judgment' in judgement.lower()):\n",
    "        judgements.append(judgement)"
   ]
  },
  {
   "cell_type": "code",
   "execution_count": null,
   "id": "4fd68de8",
   "metadata": {},
   "outputs": [],
   "source": [
    "len(judgements)"
   ]
  },
  {
   "cell_type": "code",
   "execution_count": null,
   "id": "bc0e0667",
   "metadata": {},
   "outputs": [],
   "source": [
    "## Convert Judgment PDFs into txts\n",
    "#converted_cases = []\n",
    "for judgement in tqdm(judgements):\n",
    "    case_id = judgement.split(r'/')[-1].split('_')[0]\n",
    "    if case_id in converted_cases:\n",
    "        continue\n",
    "        \n",
    "    folder_path = judgement.split(r'/')\n",
    "    folder_path.pop()\n",
    "    folder_path = r\"/\".join(folder_path)+\"/\"\n",
    "\n",
    "    pages = convert_from_path(judgement, 350, output_folder='/home/krishna/NLP_Justice/POCSO/tmp')\n",
    "    \n",
    "    i = 1\n",
    "    for page in pages:\n",
    "        image_name = \"Page_\" + str(i) + \".jpg\"  \n",
    "        page.save(image_name, \"JPEG\")\n",
    "        i = i+1\n",
    "    shutil.rmtree('tmp')\n",
    "    os.makedirs('tmp')\n",
    "        \n",
    "    pics = glob.glob(\"*.jpg\")\n",
    "    pics = natsorted(pics)\n",
    "    \n",
    "    judgement_text = ''\n",
    "    for pic in pics:\n",
    "        text = pytesseract.image_to_string(Image.open(pic))\n",
    "        os.remove(pic)\n",
    "        judgement_text = judgement_text + text\n",
    "    \n",
    "    with open(folder_path+case_id+'.txt', 'w') as f:\n",
    "        f.write(judgement_text)\n",
    "        \n",
    "    converted_cases.append(case_id)"
   ]
  },
  {
   "cell_type": "code",
   "execution_count": 5,
   "id": "fd6b4806",
   "metadata": {},
   "outputs": [],
   "source": [
    "judgement_paths_assam = []\n",
    "path =\"Assam\"\n",
    "for root, dirs, files in os.walk(path):\n",
    "    for file in files:\n",
    "        if(file.endswith(\".txt\")):\n",
    "            judgement_paths_assam.append(os.path.join(root,file))"
   ]
  },
  {
   "cell_type": "code",
   "execution_count": 9,
   "id": "4aa715ad",
   "metadata": {},
   "outputs": [],
   "source": [
    "case_dfs = []\n",
    "case_dfs.append(pd.read_csv('POCSO.csv'))"
   ]
  },
  {
   "cell_type": "code",
   "execution_count": 12,
   "id": "2a899cd7",
   "metadata": {},
   "outputs": [
    {
     "data": {
      "text/plain": [
       "9"
      ]
     },
     "execution_count": 12,
     "metadata": {},
     "output_type": "execute_result"
    }
   ],
   "source": [
    "case_dfs[0].case_id.nunique()"
   ]
  },
  {
   "cell_type": "code",
   "execution_count": 13,
   "id": "7f7521d9",
   "metadata": {},
   "outputs": [
    {
     "name": "stderr",
     "output_type": "stream",
     "text": [
      "\r",
      "  0%|                                                  | 0/1152 [00:00<?, ?it/s]"
     ]
    },
    {
     "name": "stdout",
     "output_type": "stream",
     "text": [
      "\u001b[38;5;4mℹ Pre-processing will happen on CPU!\u001b[0m\n",
      "\u001b[38;5;4mℹ Loading NER...\u001b[0m\n",
      "\u001b[38;5;4mℹ NER will run on CPU!\u001b[0m\n",
      "\u001b[38;5;4mℹ Processing documents with Legal NER!!!\u001b[0m\n"
     ]
    },
    {
     "name": "stderr",
     "output_type": "stream",
     "text": [
      "\n",
      "  0%|                                                     | 0/1 [00:00<?, ?it/s]\u001b[A\n",
      "100%|█████████████████████████████████████████████| 1/1 [00:19<00:00, 19.93s/it]\u001b[A\n",
      "  0%|                                        | 1/1152 [00:24<7:49:50, 24.49s/it]"
     ]
    },
    {
     "name": "stdout",
     "output_type": "stream",
     "text": [
      "\u001b[38;5;4mℹ Pre-processing will happen on CPU!\u001b[0m\n",
      "\u001b[38;5;4mℹ Loading NER...\u001b[0m\n",
      "\u001b[38;5;4mℹ NER will run on CPU!\u001b[0m\n",
      "\u001b[38;5;4mℹ Processing documents with Legal NER!!!\u001b[0m\n"
     ]
    },
    {
     "name": "stderr",
     "output_type": "stream",
     "text": [
      "\n",
      "  0%|                                                     | 0/1 [00:00<?, ?it/s]\u001b[A\n",
      "100%|█████████████████████████████████████████████| 1/1 [00:04<00:00,  4.49s/it]\u001b[A\n",
      "  0%|                                        | 2/1152 [00:33<4:50:35, 15.16s/it]"
     ]
    },
    {
     "name": "stdout",
     "output_type": "stream",
     "text": [
      "\u001b[38;5;4mℹ Pre-processing will happen on CPU!\u001b[0m\n",
      "\u001b[38;5;4mℹ Loading NER...\u001b[0m\n",
      "\u001b[38;5;4mℹ NER will run on CPU!\u001b[0m\n",
      "\u001b[38;5;4mℹ Processing documents with Legal NER!!!\u001b[0m\n"
     ]
    },
    {
     "name": "stderr",
     "output_type": "stream",
     "text": [
      "\n",
      "  0%|                                                     | 0/1 [00:00<?, ?it/s]\u001b[A\n",
      "100%|█████████████████████████████████████████████| 1/1 [00:05<00:00,  5.29s/it]\u001b[A\n",
      "  0%|                                        | 3/1152 [00:42<4:01:10, 12.59s/it]"
     ]
    },
    {
     "name": "stdout",
     "output_type": "stream",
     "text": [
      "\u001b[38;5;4mℹ Pre-processing will happen on CPU!\u001b[0m\n",
      "\u001b[38;5;4mℹ Loading NER...\u001b[0m\n",
      "\u001b[38;5;4mℹ NER will run on CPU!\u001b[0m\n",
      "\u001b[38;5;4mℹ Processing documents with Legal NER!!!\u001b[0m\n"
     ]
    },
    {
     "name": "stderr",
     "output_type": "stream",
     "text": [
      "\n",
      "  0%|                                                     | 0/1 [00:00<?, ?it/s]\u001b[A\n",
      "100%|█████████████████████████████████████████████| 1/1 [00:16<00:00, 16.70s/it]\u001b[A\n",
      "  0%|▏                                       | 4/1152 [01:04<5:09:57, 16.20s/it]"
     ]
    },
    {
     "name": "stdout",
     "output_type": "stream",
     "text": [
      "\u001b[38;5;4mℹ Pre-processing will happen on CPU!\u001b[0m\n",
      "\u001b[38;5;4mℹ Loading NER...\u001b[0m\n",
      "\u001b[38;5;4mℹ NER will run on CPU!\u001b[0m\n",
      "\u001b[38;5;4mℹ Processing documents with Legal NER!!!\u001b[0m\n"
     ]
    },
    {
     "name": "stderr",
     "output_type": "stream",
     "text": [
      "\n",
      "  0%|                                                     | 0/1 [00:00<?, ?it/s]\u001b[A\n",
      "100%|█████████████████████████████████████████████| 1/1 [00:17<00:00, 17.56s/it]\u001b[A\n",
      "  0%|▏                                       | 5/1152 [01:26<5:47:03, 18.15s/it]"
     ]
    },
    {
     "name": "stdout",
     "output_type": "stream",
     "text": [
      "\u001b[38;5;4mℹ Pre-processing will happen on CPU!\u001b[0m\n",
      "\u001b[38;5;4mℹ Loading NER...\u001b[0m\n",
      "\u001b[38;5;4mℹ NER will run on CPU!\u001b[0m\n",
      "\u001b[38;5;4mℹ Processing documents with Legal NER!!!\u001b[0m\n"
     ]
    },
    {
     "name": "stderr",
     "output_type": "stream",
     "text": [
      "\n",
      "  0%|                                                     | 0/1 [00:00<?, ?it/s]\u001b[A\n",
      "100%|█████████████████████████████████████████████| 1/1 [00:30<00:00, 30.50s/it]\u001b[A\n",
      "  1%|▏                                       | 6/1152 [02:00<7:31:56, 23.66s/it]"
     ]
    },
    {
     "name": "stdout",
     "output_type": "stream",
     "text": [
      "\u001b[38;5;3m⚠ There was some issue while performing postprocessing for doc id\n",
      "628656e784631f6e1b205914cf2ac828ea10fc19889a3c4678df038a7ad7a1ed.\n",
      "Some of postprocessing info may be absent because of this in doc.\u001b[0m\n",
      "\u001b[38;5;4mℹ Pre-processing will happen on CPU!\u001b[0m\n",
      "\u001b[38;5;4mℹ Loading NER...\u001b[0m\n",
      "\u001b[38;5;4mℹ NER will run on CPU!\u001b[0m\n",
      "\u001b[38;5;4mℹ Processing documents with Legal NER!!!\u001b[0m\n"
     ]
    },
    {
     "name": "stderr",
     "output_type": "stream",
     "text": [
      "\n",
      "  0%|                                                     | 0/1 [00:00<?, ?it/s]\u001b[A\n",
      "100%|█████████████████████████████████████████████| 1/1 [00:26<00:00, 26.88s/it]\u001b[A\n",
      "  1%|▏                                       | 7/1152 [02:31<8:15:27, 25.96s/it]"
     ]
    },
    {
     "name": "stdout",
     "output_type": "stream",
     "text": [
      "\u001b[38;5;4mℹ Pre-processing will happen on CPU!\u001b[0m\n",
      "\u001b[38;5;4mℹ Loading NER...\u001b[0m\n",
      "\u001b[38;5;4mℹ NER will run on CPU!\u001b[0m\n",
      "\u001b[38;5;4mℹ Processing documents with Legal NER!!!\u001b[0m\n"
     ]
    },
    {
     "name": "stderr",
     "output_type": "stream",
     "text": [
      "\n",
      "  0%|                                                     | 0/1 [00:00<?, ?it/s]\u001b[A\n",
      "100%|█████████████████████████████████████████████| 1/1 [00:13<00:00, 13.21s/it]\u001b[A\n",
      "  1%|▎                                       | 8/1152 [02:48<7:21:22, 23.15s/it]"
     ]
    },
    {
     "name": "stdout",
     "output_type": "stream",
     "text": [
      "\u001b[38;5;4mℹ Pre-processing will happen on CPU!\u001b[0m\n",
      "\u001b[38;5;4mℹ Loading NER...\u001b[0m\n",
      "\u001b[38;5;4mℹ NER will run on CPU!\u001b[0m\n",
      "\u001b[38;5;4mℹ Processing documents with Legal NER!!!\u001b[0m\n"
     ]
    },
    {
     "name": "stderr",
     "output_type": "stream",
     "text": [
      "\n",
      "  0%|                                                     | 0/1 [00:00<?, ?it/s]\u001b[A\n",
      "100%|█████████████████████████████████████████████| 1/1 [00:13<00:00, 13.58s/it]\u001b[A\n",
      "  1%|▎                                       | 9/1152 [03:05<6:48:30, 21.44s/it]"
     ]
    },
    {
     "name": "stdout",
     "output_type": "stream",
     "text": [
      "\u001b[38;5;4mℹ Pre-processing will happen on CPU!\u001b[0m\n",
      "\u001b[38;5;4mℹ Loading NER...\u001b[0m\n",
      "\u001b[38;5;4mℹ NER will run on CPU!\u001b[0m\n",
      "\u001b[38;5;4mℹ Processing documents with Legal NER!!!\u001b[0m\n"
     ]
    },
    {
     "name": "stderr",
     "output_type": "stream",
     "text": [
      "\n",
      "  0%|                                                     | 0/1 [00:00<?, ?it/s]\u001b[A\n",
      "100%|█████████████████████████████████████████████| 1/1 [00:51<00:00, 51.81s/it]\u001b[A\n",
      "  1%|▎                                     | 10/1152 [04:01<10:11:36, 32.13s/it]"
     ]
    },
    {
     "name": "stdout",
     "output_type": "stream",
     "text": [
      "\u001b[38;5;4mℹ Pre-processing will happen on CPU!\u001b[0m\n",
      "\u001b[38;5;4mℹ Loading NER...\u001b[0m\n",
      "\u001b[38;5;4mℹ NER will run on CPU!\u001b[0m\n",
      "\u001b[38;5;4mℹ Processing documents with Legal NER!!!\u001b[0m\n"
     ]
    },
    {
     "name": "stderr",
     "output_type": "stream",
     "text": [
      "\n",
      "  0%|                                                     | 0/1 [00:00<?, ?it/s]\u001b[A\n",
      "100%|█████████████████████████████████████████████| 1/1 [00:30<00:00, 30.49s/it]\u001b[A\n",
      "  1%|▎                                     | 11/1152 [04:36<10:25:02, 32.87s/it]"
     ]
    },
    {
     "name": "stdout",
     "output_type": "stream",
     "text": [
      "\u001b[38;5;4mℹ Pre-processing will happen on CPU!\u001b[0m\n",
      "\u001b[38;5;4mℹ Loading NER...\u001b[0m\n",
      "\u001b[38;5;4mℹ NER will run on CPU!\u001b[0m\n",
      "\u001b[38;5;4mℹ Processing documents with Legal NER!!!\u001b[0m\n"
     ]
    },
    {
     "name": "stderr",
     "output_type": "stream",
     "text": [
      "\n",
      "  0%|                                                     | 0/1 [00:00<?, ?it/s]\u001b[A\n",
      "100%|█████████████████████████████████████████████| 1/1 [00:13<00:00, 13.31s/it]\u001b[A\n",
      "  1%|▍                                      | 12/1152 [04:53<8:55:15, 28.17s/it]"
     ]
    },
    {
     "name": "stdout",
     "output_type": "stream",
     "text": [
      "\u001b[38;5;4mℹ Pre-processing will happen on CPU!\u001b[0m\n",
      "\u001b[38;5;4mℹ Loading NER...\u001b[0m\n",
      "\u001b[38;5;4mℹ NER will run on CPU!\u001b[0m\n",
      "\u001b[38;5;4mℹ Processing documents with Legal NER!!!\u001b[0m\n"
     ]
    },
    {
     "name": "stderr",
     "output_type": "stream",
     "text": [
      "\n",
      "  0%|                                                     | 0/1 [00:00<?, ?it/s]\u001b[A\n",
      "100%|█████████████████████████████████████████████| 1/1 [00:15<00:00, 15.25s/it]\u001b[A\n",
      "  1%|▍                                      | 13/1152 [05:13<8:03:52, 25.49s/it]"
     ]
    },
    {
     "name": "stdout",
     "output_type": "stream",
     "text": [
      "\u001b[38;5;3m⚠ There was some issue while performing postprocessing for doc id\n",
      "757283765157cdc8bf073b20fc0963089ae8ee9885278e0425df3ba1151fc4a3.\n",
      "Some of postprocessing info may be absent because of this in doc.\u001b[0m\n",
      "\u001b[38;5;4mℹ Pre-processing will happen on CPU!\u001b[0m\n",
      "\u001b[38;5;4mℹ Loading NER...\u001b[0m\n",
      "\u001b[38;5;4mℹ NER will run on CPU!\u001b[0m\n",
      "\u001b[38;5;4mℹ Processing documents with Legal NER!!!\u001b[0m\n"
     ]
    },
    {
     "name": "stderr",
     "output_type": "stream",
     "text": [
      "\n",
      "  0%|                                                     | 0/1 [00:00<?, ?it/s]\u001b[A\n",
      "100%|█████████████████████████████████████████████| 1/1 [00:09<00:00,  9.03s/it]\u001b[A\n",
      "  1%|▍                                      | 14/1152 [05:26<6:52:05, 21.73s/it]"
     ]
    },
    {
     "name": "stdout",
     "output_type": "stream",
     "text": [
      "\u001b[38;5;4mℹ Pre-processing will happen on CPU!\u001b[0m\n",
      "\u001b[38;5;4mℹ Loading NER...\u001b[0m\n",
      "\u001b[38;5;4mℹ NER will run on CPU!\u001b[0m\n",
      "\u001b[38;5;4mℹ Processing documents with Legal NER!!!\u001b[0m\n"
     ]
    },
    {
     "name": "stderr",
     "output_type": "stream",
     "text": [
      "\n",
      "  0%|                                                     | 0/1 [00:00<?, ?it/s]\u001b[A\n",
      "100%|█████████████████████████████████████████████| 1/1 [00:09<00:00,  9.74s/it]\u001b[A\n",
      "  1%|▌                                      | 15/1152 [05:40<6:07:20, 19.39s/it]"
     ]
    },
    {
     "name": "stdout",
     "output_type": "stream",
     "text": [
      "\u001b[38;5;4mℹ Pre-processing will happen on CPU!\u001b[0m\n",
      "\u001b[38;5;4mℹ Loading NER...\u001b[0m\n",
      "\u001b[38;5;4mℹ NER will run on CPU!\u001b[0m\n",
      "\u001b[38;5;4mℹ Processing documents with Legal NER!!!\u001b[0m\n"
     ]
    },
    {
     "name": "stderr",
     "output_type": "stream",
     "text": [
      "\n",
      "  0%|                                                     | 0/1 [00:00<?, ?it/s]\u001b[A\n",
      "100%|█████████████████████████████████████████████| 1/1 [00:08<00:00,  8.47s/it]\u001b[A\n",
      "  1%|▌                                      | 16/1152 [05:52<5:27:24, 17.29s/it]"
     ]
    },
    {
     "name": "stdout",
     "output_type": "stream",
     "text": [
      "\u001b[38;5;4mℹ Pre-processing will happen on CPU!\u001b[0m\n",
      "\u001b[38;5;4mℹ Loading NER...\u001b[0m\n",
      "\u001b[38;5;4mℹ NER will run on CPU!\u001b[0m\n",
      "\u001b[38;5;4mℹ Processing documents with Legal NER!!!\u001b[0m\n"
     ]
    },
    {
     "name": "stderr",
     "output_type": "stream",
     "text": [
      "\n",
      "  0%|                                                     | 0/1 [00:00<?, ?it/s]\u001b[A\n",
      "100%|█████████████████████████████████████████████| 1/1 [00:05<00:00,  5.05s/it]\u001b[A\n",
      "  1%|▌                                      | 17/1152 [06:01<4:41:46, 14.90s/it]"
     ]
    },
    {
     "name": "stdout",
     "output_type": "stream",
     "text": [
      "\u001b[38;5;4mℹ Pre-processing will happen on CPU!\u001b[0m\n",
      "\u001b[38;5;4mℹ Loading NER...\u001b[0m\n",
      "\u001b[38;5;4mℹ NER will run on CPU!\u001b[0m\n",
      "\u001b[38;5;4mℹ Processing documents with Legal NER!!!\u001b[0m\n"
     ]
    },
    {
     "name": "stderr",
     "output_type": "stream",
     "text": [
      "\n",
      "  0%|                                                     | 0/1 [00:00<?, ?it/s]\u001b[A\n",
      "100%|█████████████████████████████████████████████| 1/1 [00:19<00:00, 19.22s/it]\u001b[A\n",
      "  2%|▌                                      | 18/1152 [06:25<5:32:24, 17.59s/it]"
     ]
    },
    {
     "name": "stdout",
     "output_type": "stream",
     "text": [
      "\u001b[38;5;4mℹ Pre-processing will happen on CPU!\u001b[0m\n",
      "\u001b[38;5;4mℹ Loading NER...\u001b[0m\n",
      "\u001b[38;5;4mℹ NER will run on CPU!\u001b[0m\n",
      "\u001b[38;5;4mℹ Processing documents with Legal NER!!!\u001b[0m\n"
     ]
    },
    {
     "name": "stderr",
     "output_type": "stream",
     "text": [
      "\n",
      "  0%|                                                     | 0/1 [00:00<?, ?it/s]\u001b[A\n",
      "100%|█████████████████████████████████████████████| 1/1 [00:19<00:00, 19.80s/it]\u001b[A\n",
      "  2%|▋                                      | 19/1152 [06:49<6:09:06, 19.55s/it]"
     ]
    },
    {
     "name": "stdout",
     "output_type": "stream",
     "text": [
      "\u001b[38;5;3m⚠ There was some issue while performing postprocessing for doc id\n",
      "8ffce53c3bc7092148ce0f8303fe9f38c579bcade432bbb712e25b0a8ca69ad7.\n",
      "Some of postprocessing info may be absent because of this in doc.\u001b[0m\n",
      "\u001b[38;5;4mℹ Pre-processing will happen on CPU!\u001b[0m\n",
      "\u001b[38;5;4mℹ Loading NER...\u001b[0m\n",
      "\u001b[38;5;4mℹ NER will run on CPU!\u001b[0m\n",
      "\u001b[38;5;4mℹ Processing documents with Legal NER!!!\u001b[0m\n"
     ]
    },
    {
     "name": "stderr",
     "output_type": "stream",
     "text": [
      "\n",
      "  0%|                                                     | 0/1 [00:00<?, ?it/s]\u001b[A\n",
      "100%|█████████████████████████████████████████████| 1/1 [00:07<00:00,  7.82s/it]\u001b[A\n",
      "  2%|▋                                      | 20/1152 [07:01<5:24:56, 17.22s/it]"
     ]
    },
    {
     "name": "stdout",
     "output_type": "stream",
     "text": [
      "\u001b[38;5;4mℹ Pre-processing will happen on CPU!\u001b[0m\n",
      "\u001b[38;5;4mℹ Loading NER...\u001b[0m\n",
      "\u001b[38;5;4mℹ NER will run on CPU!\u001b[0m\n",
      "\u001b[38;5;4mℹ Processing documents with Legal NER!!!\u001b[0m\n"
     ]
    },
    {
     "name": "stderr",
     "output_type": "stream",
     "text": [
      "\n",
      "  0%|                                                     | 0/1 [00:00<?, ?it/s]\u001b[A\n",
      "100%|█████████████████████████████████████████████| 1/1 [00:26<00:00, 26.64s/it]\u001b[A\n",
      "  2%|▋                                      | 21/1152 [07:32<6:42:00, 21.33s/it]"
     ]
    },
    {
     "name": "stdout",
     "output_type": "stream",
     "text": [
      "\u001b[38;5;4mℹ Pre-processing will happen on CPU!\u001b[0m\n",
      "\u001b[38;5;4mℹ Loading NER...\u001b[0m\n",
      "\u001b[38;5;4mℹ NER will run on CPU!\u001b[0m\n",
      "\u001b[38;5;4mℹ Processing documents with Legal NER!!!\u001b[0m\n"
     ]
    },
    {
     "name": "stderr",
     "output_type": "stream",
     "text": [
      "\n",
      "  0%|                                                     | 0/1 [00:00<?, ?it/s]\u001b[A\n",
      "100%|█████████████████████████████████████████████| 1/1 [00:04<00:00,  4.47s/it]\u001b[A\n",
      "  2%|▋                                      | 22/1152 [07:41<5:29:10, 17.48s/it]"
     ]
    },
    {
     "name": "stdout",
     "output_type": "stream",
     "text": [
      "\u001b[38;5;4mℹ Pre-processing will happen on CPU!\u001b[0m\n",
      "\u001b[38;5;4mℹ Loading NER...\u001b[0m\n",
      "\u001b[38;5;4mℹ NER will run on CPU!\u001b[0m\n",
      "\u001b[38;5;4mℹ Processing documents with Legal NER!!!\u001b[0m\n"
     ]
    },
    {
     "name": "stderr",
     "output_type": "stream",
     "text": [
      "\n",
      "  0%|                                                     | 0/1 [00:00<?, ?it/s]\u001b[A\n",
      "100%|█████████████████████████████████████████████| 1/1 [01:01<00:00, 61.31s/it]\u001b[A\n",
      "  2%|▊                                     | 23/1152 [08:46<10:00:16, 31.90s/it]"
     ]
    },
    {
     "name": "stdout",
     "output_type": "stream",
     "text": [
      "\u001b[38;5;4mℹ Pre-processing will happen on CPU!\u001b[0m\n",
      "\u001b[38;5;4mℹ Loading NER...\u001b[0m\n",
      "\u001b[38;5;4mℹ NER will run on CPU!\u001b[0m\n",
      "\u001b[38;5;4mℹ Processing documents with Legal NER!!!\u001b[0m\n"
     ]
    },
    {
     "name": "stderr",
     "output_type": "stream",
     "text": [
      "\n",
      "  0%|                                                     | 0/1 [00:00<?, ?it/s]\u001b[A\n",
      "100%|█████████████████████████████████████████████| 1/1 [00:07<00:00,  7.10s/it]\u001b[A\n",
      "  2%|▊                                      | 24/1152 [08:57<8:02:21, 25.66s/it]"
     ]
    },
    {
     "name": "stdout",
     "output_type": "stream",
     "text": [
      "\u001b[38;5;4mℹ Pre-processing will happen on CPU!\u001b[0m\n",
      "\u001b[38;5;4mℹ Loading NER...\u001b[0m\n",
      "\u001b[38;5;4mℹ NER will run on CPU!\u001b[0m\n",
      "\u001b[38;5;4mℹ Processing documents with Legal NER!!!\u001b[0m\n"
     ]
    },
    {
     "name": "stderr",
     "output_type": "stream",
     "text": [
      "\n",
      "  0%|                                                     | 0/1 [00:00<?, ?it/s]\u001b[A\n",
      "100%|█████████████████████████████████████████████| 1/1 [00:09<00:00,  9.02s/it]\u001b[A\n",
      "  2%|▊                                      | 25/1152 [09:11<6:52:02, 21.94s/it]"
     ]
    },
    {
     "name": "stdout",
     "output_type": "stream",
     "text": [
      "\u001b[38;5;4mℹ Pre-processing will happen on CPU!\u001b[0m\n",
      "\u001b[38;5;4mℹ Loading NER...\u001b[0m\n",
      "\u001b[38;5;4mℹ NER will run on CPU!\u001b[0m\n",
      "\u001b[38;5;4mℹ Processing documents with Legal NER!!!\u001b[0m\n"
     ]
    },
    {
     "name": "stderr",
     "output_type": "stream",
     "text": [
      "\n",
      "  0%|                                                     | 0/1 [00:00<?, ?it/s]\u001b[A\n",
      "100%|█████████████████████████████████████████████| 1/1 [00:17<00:00, 17.05s/it]\u001b[A\n",
      "  2%|▉                                      | 26/1152 [09:32<6:50:53, 21.89s/it]"
     ]
    },
    {
     "name": "stdout",
     "output_type": "stream",
     "text": [
      "\u001b[38;5;4mℹ Pre-processing will happen on CPU!\u001b[0m\n",
      "\u001b[38;5;4mℹ Loading NER...\u001b[0m\n",
      "\u001b[38;5;4mℹ NER will run on CPU!\u001b[0m\n",
      "\u001b[38;5;4mℹ Processing documents with Legal NER!!!\u001b[0m\n"
     ]
    },
    {
     "name": "stderr",
     "output_type": "stream",
     "text": [
      "\n",
      "  0%|                                                     | 0/1 [00:00<?, ?it/s]\u001b[A\n",
      "100%|█████████████████████████████████████████████| 1/1 [00:25<00:00, 25.35s/it]\u001b[A\n",
      "  2%|▉                                      | 27/1152 [10:02<7:35:13, 24.28s/it]"
     ]
    },
    {
     "name": "stdout",
     "output_type": "stream",
     "text": [
      "\u001b[38;5;4mℹ Pre-processing will happen on CPU!\u001b[0m\n",
      "\u001b[38;5;4mℹ Loading NER...\u001b[0m\n",
      "\u001b[38;5;4mℹ NER will run on CPU!\u001b[0m\n",
      "\u001b[38;5;4mℹ Processing documents with Legal NER!!!\u001b[0m\n"
     ]
    },
    {
     "name": "stderr",
     "output_type": "stream",
     "text": [
      "\n",
      "  0%|                                                     | 0/1 [00:00<?, ?it/s]\u001b[A\n",
      "100%|█████████████████████████████████████████████| 1/1 [00:08<00:00,  8.19s/it]\u001b[A\n",
      "  2%|▉                                      | 28/1152 [10:15<6:28:17, 20.73s/it]"
     ]
    },
    {
     "name": "stdout",
     "output_type": "stream",
     "text": [
      "\u001b[38;5;4mℹ Pre-processing will happen on CPU!\u001b[0m\n",
      "\u001b[38;5;4mℹ Loading NER...\u001b[0m\n",
      "\u001b[38;5;4mℹ NER will run on CPU!\u001b[0m\n",
      "\u001b[38;5;4mℹ Processing documents with Legal NER!!!\u001b[0m\n"
     ]
    },
    {
     "name": "stderr",
     "output_type": "stream",
     "text": [
      "\n",
      "  0%|                                                     | 0/1 [00:00<?, ?it/s]\u001b[A\n",
      "100%|█████████████████████████████████████████████| 1/1 [00:10<00:00, 10.93s/it]\u001b[A\n",
      "  3%|▉                                      | 29/1152 [10:30<5:57:23, 19.10s/it]"
     ]
    },
    {
     "name": "stdout",
     "output_type": "stream",
     "text": [
      "\u001b[38;5;4mℹ Pre-processing will happen on CPU!\u001b[0m\n",
      "\u001b[38;5;4mℹ Loading NER...\u001b[0m\n",
      "\u001b[38;5;4mℹ NER will run on CPU!\u001b[0m\n",
      "\u001b[38;5;4mℹ Processing documents with Legal NER!!!\u001b[0m\n"
     ]
    },
    {
     "name": "stderr",
     "output_type": "stream",
     "text": [
      "\n",
      "  0%|                                                     | 0/1 [00:00<?, ?it/s]\u001b[A\n",
      "100%|█████████████████████████████████████████████| 1/1 [00:05<00:00,  5.74s/it]\u001b[A\n",
      "  3%|█                                      | 30/1152 [10:40<5:05:54, 16.36s/it]"
     ]
    },
    {
     "name": "stdout",
     "output_type": "stream",
     "text": [
      "\u001b[38;5;4mℹ Pre-processing will happen on CPU!\u001b[0m\n",
      "\u001b[38;5;4mℹ Loading NER...\u001b[0m\n",
      "\u001b[38;5;4mℹ NER will run on CPU!\u001b[0m\n",
      "\u001b[38;5;4mℹ Processing documents with Legal NER!!!\u001b[0m\n"
     ]
    },
    {
     "name": "stderr",
     "output_type": "stream",
     "text": [
      "\n",
      "  0%|                                                     | 0/1 [00:00<?, ?it/s]\u001b[A\n",
      "100%|█████████████████████████████████████████████| 1/1 [00:22<00:00, 22.55s/it]\u001b[A\n",
      "  3%|█                                      | 31/1152 [11:06<6:02:49, 19.42s/it]"
     ]
    },
    {
     "name": "stdout",
     "output_type": "stream",
     "text": [
      "\u001b[38;5;4mℹ Pre-processing will happen on CPU!\u001b[0m\n",
      "\u001b[38;5;4mℹ Loading NER...\u001b[0m\n",
      "\u001b[38;5;4mℹ NER will run on CPU!\u001b[0m\n",
      "\u001b[38;5;4mℹ Processing documents with Legal NER!!!\u001b[0m\n"
     ]
    },
    {
     "name": "stderr",
     "output_type": "stream",
     "text": [
      "\n",
      "  0%|                                                     | 0/1 [00:00<?, ?it/s]\u001b[A\n",
      "100%|█████████████████████████████████████████████| 1/1 [00:04<00:00,  4.43s/it]\u001b[A\n",
      "  3%|█                                      | 32/1152 [11:15<5:02:07, 16.19s/it]"
     ]
    },
    {
     "name": "stdout",
     "output_type": "stream",
     "text": [
      "\u001b[38;5;4mℹ Pre-processing will happen on CPU!\u001b[0m\n",
      "\u001b[38;5;4mℹ Loading NER...\u001b[0m\n",
      "\u001b[38;5;4mℹ NER will run on CPU!\u001b[0m\n",
      "\u001b[38;5;4mℹ Processing documents with Legal NER!!!\u001b[0m\n"
     ]
    },
    {
     "name": "stderr",
     "output_type": "stream",
     "text": [
      "\n",
      "  0%|                                                     | 0/1 [00:00<?, ?it/s]\u001b[A\n",
      "100%|█████████████████████████████████████████████| 1/1 [00:24<00:00, 24.75s/it]\u001b[A\n",
      "  3%|█                                      | 33/1152 [11:44<6:13:40, 20.04s/it]"
     ]
    },
    {
     "name": "stdout",
     "output_type": "stream",
     "text": [
      "\u001b[38;5;4mℹ Pre-processing will happen on CPU!\u001b[0m\n",
      "\u001b[38;5;4mℹ Loading NER...\u001b[0m\n",
      "\u001b[38;5;4mℹ NER will run on CPU!\u001b[0m\n",
      "\u001b[38;5;4mℹ Processing documents with Legal NER!!!\u001b[0m\n"
     ]
    },
    {
     "name": "stderr",
     "output_type": "stream",
     "text": [
      "\n",
      "  0%|                                                     | 0/1 [00:00<?, ?it/s]\u001b[A\n",
      "100%|█████████████████████████████████████████████| 1/1 [00:17<00:00, 17.23s/it]\u001b[A\n",
      "  3%|█▏                                     | 34/1152 [12:05<6:20:57, 20.45s/it]"
     ]
    },
    {
     "name": "stdout",
     "output_type": "stream",
     "text": [
      "\u001b[38;5;4mℹ Pre-processing will happen on CPU!\u001b[0m\n",
      "\u001b[38;5;4mℹ Loading NER...\u001b[0m\n",
      "\u001b[38;5;4mℹ NER will run on CPU!\u001b[0m\n",
      "\u001b[38;5;4mℹ Processing documents with Legal NER!!!\u001b[0m\n"
     ]
    },
    {
     "name": "stderr",
     "output_type": "stream",
     "text": [
      "\n",
      "  0%|                                                     | 0/1 [00:00<?, ?it/s]\u001b[A\n",
      "100%|█████████████████████████████████████████████| 1/1 [00:24<00:00, 24.27s/it]\u001b[A\n",
      "  3%|█▏                                     | 35/1152 [12:34<7:05:08, 22.84s/it]"
     ]
    },
    {
     "name": "stdout",
     "output_type": "stream",
     "text": [
      "\u001b[38;5;4mℹ Pre-processing will happen on CPU!\u001b[0m\n",
      "\u001b[38;5;4mℹ Loading NER...\u001b[0m\n",
      "\u001b[38;5;4mℹ NER will run on CPU!\u001b[0m\n",
      "\u001b[38;5;4mℹ Processing documents with Legal NER!!!\u001b[0m\n"
     ]
    },
    {
     "name": "stderr",
     "output_type": "stream",
     "text": [
      "\n",
      "  0%|                                                     | 0/1 [00:00<?, ?it/s]\u001b[A\n",
      "100%|█████████████████████████████████████████████| 1/1 [00:35<00:00, 35.06s/it]\u001b[A\n",
      "  3%|█▏                                     | 36/1152 [13:13<8:36:06, 27.75s/it]"
     ]
    },
    {
     "name": "stdout",
     "output_type": "stream",
     "text": [
      "\u001b[38;5;4mℹ Pre-processing will happen on CPU!\u001b[0m\n",
      "\u001b[38;5;4mℹ Loading NER...\u001b[0m\n",
      "\u001b[38;5;4mℹ NER will run on CPU!\u001b[0m\n",
      "\u001b[38;5;4mℹ Processing documents with Legal NER!!!\u001b[0m\n"
     ]
    },
    {
     "name": "stderr",
     "output_type": "stream",
     "text": [
      "\n",
      "  0%|                                                     | 0/1 [00:00<?, ?it/s]\u001b[A\n",
      "100%|█████████████████████████████████████████████| 1/1 [00:05<00:00,  5.61s/it]\u001b[A\n",
      "  3%|█▎                                     | 37/1152 [13:23<6:54:37, 22.31s/it]"
     ]
    },
    {
     "name": "stdout",
     "output_type": "stream",
     "text": [
      "\u001b[38;5;4mℹ Pre-processing will happen on CPU!\u001b[0m\n",
      "\u001b[38;5;4mℹ Loading NER...\u001b[0m\n",
      "\u001b[38;5;4mℹ NER will run on CPU!\u001b[0m\n",
      "\u001b[38;5;4mℹ Processing documents with Legal NER!!!\u001b[0m\n"
     ]
    },
    {
     "name": "stderr",
     "output_type": "stream",
     "text": [
      "\n",
      "  0%|                                                     | 0/1 [00:00<?, ?it/s]\u001b[A\n",
      "100%|█████████████████████████████████████████████| 1/1 [00:31<00:00, 31.96s/it]\u001b[A\n",
      "  3%|█▎                                     | 38/1152 [13:59<8:10:39, 26.43s/it]"
     ]
    },
    {
     "name": "stdout",
     "output_type": "stream",
     "text": [
      "\u001b[38;5;4mℹ Pre-processing will happen on CPU!\u001b[0m\n",
      "\u001b[38;5;4mℹ Loading NER...\u001b[0m\n",
      "\u001b[38;5;4mℹ NER will run on CPU!\u001b[0m\n",
      "\u001b[38;5;4mℹ Processing documents with Legal NER!!!\u001b[0m\n"
     ]
    },
    {
     "name": "stderr",
     "output_type": "stream",
     "text": [
      "\n",
      "  0%|                                                     | 0/1 [00:00<?, ?it/s]\u001b[A\n",
      "100%|█████████████████████████████████████████████| 1/1 [00:08<00:00,  8.46s/it]\u001b[A\n",
      "  3%|█▎                                     | 39/1152 [14:11<6:52:19, 22.23s/it]"
     ]
    },
    {
     "name": "stdout",
     "output_type": "stream",
     "text": [
      "\u001b[38;5;4mℹ Pre-processing will happen on CPU!\u001b[0m\n",
      "\u001b[38;5;4mℹ Loading NER...\u001b[0m\n",
      "\u001b[38;5;4mℹ NER will run on CPU!\u001b[0m\n",
      "\u001b[38;5;4mℹ Processing documents with Legal NER!!!\u001b[0m\n"
     ]
    },
    {
     "name": "stderr",
     "output_type": "stream",
     "text": [
      "\n",
      "  0%|                                                     | 0/1 [00:00<?, ?it/s]\u001b[A\n",
      "100%|█████████████████████████████████████████████| 1/1 [00:13<00:00, 13.27s/it]\u001b[A\n",
      "  3%|█▎                                     | 40/1152 [14:29<6:24:59, 20.77s/it]"
     ]
    },
    {
     "name": "stdout",
     "output_type": "stream",
     "text": [
      "\u001b[38;5;4mℹ Pre-processing will happen on CPU!\u001b[0m\n",
      "\u001b[38;5;4mℹ Loading NER...\u001b[0m\n",
      "\u001b[38;5;4mℹ NER will run on CPU!\u001b[0m\n",
      "\u001b[38;5;4mℹ Processing documents with Legal NER!!!\u001b[0m\n"
     ]
    },
    {
     "name": "stderr",
     "output_type": "stream",
     "text": [
      "\n",
      "  0%|                                                     | 0/1 [00:00<?, ?it/s]\u001b[A\n",
      "100%|█████████████████████████████████████████████| 1/1 [00:18<00:00, 18.94s/it]\u001b[A\n",
      "  4%|█▍                                     | 41/1152 [14:52<6:38:35, 21.53s/it]"
     ]
    },
    {
     "name": "stdout",
     "output_type": "stream",
     "text": [
      "\u001b[38;5;4mℹ Pre-processing will happen on CPU!\u001b[0m\n",
      "\u001b[38;5;4mℹ Loading NER...\u001b[0m\n",
      "\u001b[38;5;4mℹ NER will run on CPU!\u001b[0m\n",
      "\u001b[38;5;4mℹ Processing documents with Legal NER!!!\u001b[0m\n"
     ]
    },
    {
     "name": "stderr",
     "output_type": "stream",
     "text": [
      "\n",
      "  0%|                                                     | 0/1 [00:00<?, ?it/s]\u001b[A\n",
      "100%|█████████████████████████████████████████████| 1/1 [00:13<00:00, 13.08s/it]\u001b[A\n",
      "  4%|█▍                                     | 42/1152 [15:09<6:13:41, 20.20s/it]"
     ]
    },
    {
     "name": "stdout",
     "output_type": "stream",
     "text": [
      "\u001b[38;5;4mℹ Pre-processing will happen on CPU!\u001b[0m\n",
      "\u001b[38;5;4mℹ Loading NER...\u001b[0m\n",
      "\u001b[38;5;4mℹ NER will run on CPU!\u001b[0m\n",
      "\u001b[38;5;4mℹ Processing documents with Legal NER!!!\u001b[0m\n"
     ]
    },
    {
     "name": "stderr",
     "output_type": "stream",
     "text": [
      "\n",
      "  0%|                                                     | 0/1 [00:00<?, ?it/s]\u001b[A\n",
      "100%|█████████████████████████████████████████████| 1/1 [00:13<00:00, 13.94s/it]\u001b[A\n",
      "  4%|█▍                                     | 43/1152 [15:27<6:01:34, 19.56s/it]"
     ]
    },
    {
     "name": "stdout",
     "output_type": "stream",
     "text": [
      "\u001b[38;5;4mℹ Pre-processing will happen on CPU!\u001b[0m\n",
      "\u001b[38;5;4mℹ Loading NER...\u001b[0m\n",
      "\u001b[38;5;4mℹ NER will run on CPU!\u001b[0m\n",
      "\u001b[38;5;4mℹ Processing documents with Legal NER!!!\u001b[0m\n"
     ]
    },
    {
     "name": "stderr",
     "output_type": "stream",
     "text": [
      "\n",
      "  0%|                                                     | 0/1 [00:00<?, ?it/s]\u001b[A\n",
      "100%|█████████████████████████████████████████████| 1/1 [00:42<00:00, 42.84s/it]\u001b[A\n",
      "  4%|█▍                                     | 44/1152 [16:14<8:32:37, 27.76s/it]"
     ]
    },
    {
     "name": "stdout",
     "output_type": "stream",
     "text": [
      "\u001b[38;5;4mℹ Pre-processing will happen on CPU!\u001b[0m\n",
      "\u001b[38;5;4mℹ Loading NER...\u001b[0m\n",
      "\u001b[38;5;4mℹ NER will run on CPU!\u001b[0m\n",
      "\u001b[38;5;4mℹ Processing documents with Legal NER!!!\u001b[0m\n"
     ]
    },
    {
     "name": "stderr",
     "output_type": "stream",
     "text": [
      "\n",
      "  0%|                                                     | 0/1 [00:00<?, ?it/s]\u001b[A\n",
      "100%|█████████████████████████████████████████████| 1/1 [00:13<00:00, 13.12s/it]\u001b[A\n",
      "  4%|█▌                                     | 45/1152 [16:31<7:34:13, 24.62s/it]"
     ]
    },
    {
     "name": "stdout",
     "output_type": "stream",
     "text": [
      "\u001b[38;5;4mℹ Pre-processing will happen on CPU!\u001b[0m\n",
      "\u001b[38;5;4mℹ Loading NER...\u001b[0m\n",
      "\u001b[38;5;4mℹ NER will run on CPU!\u001b[0m\n",
      "\u001b[38;5;4mℹ Processing documents with Legal NER!!!\u001b[0m\n"
     ]
    },
    {
     "name": "stderr",
     "output_type": "stream",
     "text": [
      "\n",
      "  0%|                                                     | 0/1 [00:00<?, ?it/s]\u001b[A\n",
      "100%|█████████████████████████████████████████████| 1/1 [00:11<00:00, 11.74s/it]\u001b[A\n",
      "  4%|█▌                                     | 46/1152 [16:47<6:44:29, 21.94s/it]"
     ]
    },
    {
     "name": "stdout",
     "output_type": "stream",
     "text": [
      "\u001b[38;5;4mℹ Pre-processing will happen on CPU!\u001b[0m\n",
      "\u001b[38;5;4mℹ Loading NER...\u001b[0m\n",
      "\u001b[38;5;4mℹ NER will run on CPU!\u001b[0m\n",
      "\u001b[38;5;4mℹ Processing documents with Legal NER!!!\u001b[0m\n"
     ]
    },
    {
     "name": "stderr",
     "output_type": "stream",
     "text": [
      "\n",
      "  0%|                                                     | 0/1 [00:00<?, ?it/s]\u001b[A\n",
      "100%|█████████████████████████████████████████████| 1/1 [00:10<00:00, 10.33s/it]\u001b[A\n",
      "  4%|█▌                                     | 47/1152 [17:01<6:02:44, 19.70s/it]"
     ]
    },
    {
     "name": "stdout",
     "output_type": "stream",
     "text": [
      "\u001b[38;5;4mℹ Pre-processing will happen on CPU!\u001b[0m\n",
      "\u001b[38;5;4mℹ Loading NER...\u001b[0m\n",
      "\u001b[38;5;4mℹ NER will run on CPU!\u001b[0m\n",
      "\u001b[38;5;4mℹ Processing documents with Legal NER!!!\u001b[0m\n"
     ]
    },
    {
     "name": "stderr",
     "output_type": "stream",
     "text": [
      "\n",
      "  0%|                                                     | 0/1 [00:00<?, ?it/s]\u001b[A\n",
      "100%|█████████████████████████████████████████████| 1/1 [00:14<00:00, 14.06s/it]\u001b[A\n",
      "  4%|█▋                                     | 48/1152 [17:20<5:55:48, 19.34s/it]"
     ]
    },
    {
     "name": "stdout",
     "output_type": "stream",
     "text": [
      "\u001b[38;5;4mℹ Pre-processing will happen on CPU!\u001b[0m\n",
      "\u001b[38;5;4mℹ Loading NER...\u001b[0m\n",
      "\u001b[38;5;4mℹ NER will run on CPU!\u001b[0m\n",
      "\u001b[38;5;4mℹ Processing documents with Legal NER!!!\u001b[0m\n"
     ]
    },
    {
     "name": "stderr",
     "output_type": "stream",
     "text": [
      "\n",
      "  0%|                                                     | 0/1 [00:00<?, ?it/s]\u001b[A\n",
      "100%|█████████████████████████████████████████████| 1/1 [00:10<00:00, 10.15s/it]\u001b[A\n",
      "  4%|█▋                                     | 49/1152 [17:34<5:27:43, 17.83s/it]"
     ]
    },
    {
     "name": "stdout",
     "output_type": "stream",
     "text": [
      "\u001b[38;5;4mℹ Pre-processing will happen on CPU!\u001b[0m\n",
      "\u001b[38;5;4mℹ Loading NER...\u001b[0m\n",
      "\u001b[38;5;4mℹ NER will run on CPU!\u001b[0m\n",
      "\u001b[38;5;4mℹ Processing documents with Legal NER!!!\u001b[0m\n"
     ]
    },
    {
     "name": "stderr",
     "output_type": "stream",
     "text": [
      "\n",
      "  0%|                                                     | 0/1 [00:00<?, ?it/s]\u001b[A\n",
      "100%|█████████████████████████████████████████████| 1/1 [00:07<00:00,  7.11s/it]\u001b[A\n",
      "  4%|█▋                                     | 50/1152 [17:46<4:52:06, 15.90s/it]"
     ]
    },
    {
     "name": "stdout",
     "output_type": "stream",
     "text": [
      "\u001b[38;5;4mℹ Pre-processing will happen on CPU!\u001b[0m\n",
      "\u001b[38;5;4mℹ Loading NER...\u001b[0m\n",
      "\u001b[38;5;4mℹ NER will run on CPU!\u001b[0m\n",
      "\u001b[38;5;4mℹ Processing documents with Legal NER!!!\u001b[0m\n"
     ]
    },
    {
     "name": "stderr",
     "output_type": "stream",
     "text": [
      "\n",
      "  0%|                                                     | 0/1 [00:00<?, ?it/s]\u001b[A\n",
      "100%|█████████████████████████████████████████████| 1/1 [00:05<00:00,  5.08s/it]\u001b[A\n",
      "  4%|█▋                                     | 51/1152 [17:55<4:17:10, 14.02s/it]"
     ]
    },
    {
     "name": "stdout",
     "output_type": "stream",
     "text": [
      "\u001b[38;5;4mℹ Pre-processing will happen on CPU!\u001b[0m\n",
      "\u001b[38;5;4mℹ Loading NER...\u001b[0m\n",
      "\u001b[38;5;4mℹ NER will run on CPU!\u001b[0m\n",
      "\u001b[38;5;4mℹ Processing documents with Legal NER!!!\u001b[0m\n"
     ]
    },
    {
     "name": "stderr",
     "output_type": "stream",
     "text": [
      "\n",
      "  0%|                                                     | 0/1 [00:00<?, ?it/s]\u001b[A\n",
      "100%|█████████████████████████████████████████████| 1/1 [00:27<00:00, 27.74s/it]\u001b[A\n",
      "  5%|█▊                                     | 52/1152 [18:28<5:57:49, 19.52s/it]"
     ]
    },
    {
     "name": "stdout",
     "output_type": "stream",
     "text": [
      "\u001b[38;5;3m⚠ There was some issue while performing postprocessing for doc id\n",
      "c422f49332e8527f5c75503baa8c671596d137bddd1072d756007598685e1405.\n",
      "Some of postprocessing info may be absent because of this in doc.\u001b[0m\n",
      "\u001b[38;5;4mℹ Pre-processing will happen on CPU!\u001b[0m\n",
      "\u001b[38;5;4mℹ Loading NER...\u001b[0m\n",
      "\u001b[38;5;4mℹ NER will run on CPU!\u001b[0m\n",
      "\u001b[38;5;4mℹ Processing documents with Legal NER!!!\u001b[0m\n"
     ]
    },
    {
     "name": "stderr",
     "output_type": "stream",
     "text": [
      "\n",
      "  0%|                                                     | 0/1 [00:00<?, ?it/s]\u001b[A\n",
      "100%|█████████████████████████████████████████████| 1/1 [00:08<00:00,  8.62s/it]\u001b[A\n",
      "  5%|█▊                                     | 53/1152 [18:40<5:20:23, 17.49s/it]"
     ]
    },
    {
     "name": "stdout",
     "output_type": "stream",
     "text": [
      "\u001b[38;5;4mℹ Pre-processing will happen on CPU!\u001b[0m\n",
      "\u001b[38;5;4mℹ Loading NER...\u001b[0m\n",
      "\u001b[38;5;4mℹ NER will run on CPU!\u001b[0m\n",
      "\u001b[38;5;4mℹ Processing documents with Legal NER!!!\u001b[0m\n"
     ]
    },
    {
     "name": "stderr",
     "output_type": "stream",
     "text": [
      "\n",
      "  0%|                                                     | 0/1 [00:00<?, ?it/s]\u001b[A\n",
      "100%|█████████████████████████████████████████████| 1/1 [00:12<00:00, 12.69s/it]\u001b[A\n",
      "  5%|█▊                                     | 54/1152 [18:57<5:17:28, 17.35s/it]"
     ]
    },
    {
     "name": "stdout",
     "output_type": "stream",
     "text": [
      "\u001b[38;5;4mℹ Pre-processing will happen on CPU!\u001b[0m\n",
      "\u001b[38;5;4mℹ Loading NER...\u001b[0m\n",
      "\u001b[38;5;4mℹ NER will run on CPU!\u001b[0m\n",
      "\u001b[38;5;4mℹ Processing documents with Legal NER!!!\u001b[0m\n"
     ]
    },
    {
     "name": "stderr",
     "output_type": "stream",
     "text": [
      "\n",
      "  0%|                                                     | 0/1 [00:00<?, ?it/s]\u001b[A\n",
      "100%|█████████████████████████████████████████████| 1/1 [00:18<00:00, 18.32s/it]\u001b[A\n",
      "  5%|█▊                                     | 55/1152 [19:20<5:45:37, 18.90s/it]"
     ]
    },
    {
     "name": "stdout",
     "output_type": "stream",
     "text": [
      "\u001b[38;5;4mℹ Pre-processing will happen on CPU!\u001b[0m\n",
      "\u001b[38;5;4mℹ Loading NER...\u001b[0m\n",
      "\u001b[38;5;4mℹ NER will run on CPU!\u001b[0m\n",
      "\u001b[38;5;4mℹ Processing documents with Legal NER!!!\u001b[0m\n"
     ]
    },
    {
     "name": "stderr",
     "output_type": "stream",
     "text": [
      "\n",
      "  0%|                                                     | 0/1 [00:00<?, ?it/s]\u001b[A\n",
      "100%|█████████████████████████████████████████████| 1/1 [00:09<00:00,  9.57s/it]\u001b[A\n",
      "  5%|█▉                                     | 56/1152 [19:34<5:16:51, 17.35s/it]"
     ]
    },
    {
     "name": "stdout",
     "output_type": "stream",
     "text": [
      "\u001b[38;5;4mℹ Pre-processing will happen on CPU!\u001b[0m\n",
      "\u001b[38;5;4mℹ Loading NER...\u001b[0m\n",
      "\u001b[38;5;4mℹ NER will run on CPU!\u001b[0m\n",
      "\u001b[38;5;4mℹ Processing documents with Legal NER!!!\u001b[0m\n"
     ]
    },
    {
     "name": "stderr",
     "output_type": "stream",
     "text": [
      "\n",
      "  0%|                                                     | 0/1 [00:00<?, ?it/s]\u001b[A\n",
      "100%|█████████████████████████████████████████████| 1/1 [00:18<00:00, 18.93s/it]\u001b[A\n",
      "  5%|█▉                                     | 57/1152 [19:57<5:50:06, 19.18s/it]"
     ]
    },
    {
     "name": "stdout",
     "output_type": "stream",
     "text": [
      "\u001b[38;5;3m⚠ There was some issue while performing postprocessing for doc id\n",
      "cff557c8028622db5c7c8d0a408d2c0797fae41d244a920d001c0c2e637bcc16.\n",
      "Some of postprocessing info may be absent because of this in doc.\u001b[0m\n",
      "\u001b[38;5;4mℹ Pre-processing will happen on CPU!\u001b[0m\n",
      "\u001b[38;5;4mℹ Loading NER...\u001b[0m\n",
      "\u001b[38;5;4mℹ NER will run on CPU!\u001b[0m\n",
      "\u001b[38;5;4mℹ Processing documents with Legal NER!!!\u001b[0m\n"
     ]
    },
    {
     "name": "stderr",
     "output_type": "stream",
     "text": [
      "\n",
      "  0%|                                                     | 0/1 [00:00<?, ?it/s]\u001b[A\n",
      "100%|█████████████████████████████████████████████| 1/1 [00:23<00:00, 23.51s/it]\u001b[A\n",
      "  5%|█▉                                     | 58/1152 [20:25<6:36:02, 21.72s/it]"
     ]
    },
    {
     "name": "stdout",
     "output_type": "stream",
     "text": [
      "\u001b[38;5;4mℹ Pre-processing will happen on CPU!\u001b[0m\n",
      "\u001b[38;5;4mℹ Loading NER...\u001b[0m\n",
      "\u001b[38;5;4mℹ NER will run on CPU!\u001b[0m\n",
      "\u001b[38;5;4mℹ Processing documents with Legal NER!!!\u001b[0m\n"
     ]
    },
    {
     "name": "stderr",
     "output_type": "stream",
     "text": [
      "\n",
      "  0%|                                                     | 0/1 [00:00<?, ?it/s]\u001b[A\n",
      "100%|█████████████████████████████████████████████| 1/1 [00:16<00:00, 16.59s/it]\u001b[A\n",
      "  5%|█▉                                     | 59/1152 [20:45<6:29:50, 21.40s/it]"
     ]
    },
    {
     "name": "stdout",
     "output_type": "stream",
     "text": [
      "\u001b[38;5;4mℹ Pre-processing will happen on CPU!\u001b[0m\n",
      "\u001b[38;5;4mℹ Loading NER...\u001b[0m\n",
      "\u001b[38;5;4mℹ NER will run on CPU!\u001b[0m\n",
      "\u001b[38;5;4mℹ Processing documents with Legal NER!!!\u001b[0m\n"
     ]
    },
    {
     "name": "stderr",
     "output_type": "stream",
     "text": [
      "\n",
      "  0%|                                                     | 0/1 [00:00<?, ?it/s]\u001b[A\n",
      "100%|█████████████████████████████████████████████| 1/1 [00:16<00:00, 16.38s/it]\u001b[A\n",
      "  5%|██                                     | 60/1152 [21:06<6:24:45, 21.14s/it]"
     ]
    },
    {
     "name": "stdout",
     "output_type": "stream",
     "text": [
      "\u001b[38;5;4mℹ Pre-processing will happen on CPU!\u001b[0m\n",
      "\u001b[38;5;4mℹ Loading NER...\u001b[0m\n",
      "\u001b[38;5;4mℹ NER will run on CPU!\u001b[0m\n",
      "\u001b[38;5;4mℹ Processing documents with Legal NER!!!\u001b[0m\n"
     ]
    },
    {
     "name": "stderr",
     "output_type": "stream",
     "text": [
      "\n",
      "  0%|                                                     | 0/1 [00:00<?, ?it/s]\u001b[A\n",
      "100%|█████████████████████████████████████████████| 1/1 [00:47<00:00, 47.23s/it]\u001b[A\n",
      "  5%|██                                     | 61/1152 [21:57<9:10:06, 30.25s/it]"
     ]
    },
    {
     "name": "stdout",
     "output_type": "stream",
     "text": [
      "\u001b[38;5;4mℹ Pre-processing will happen on CPU!\u001b[0m\n",
      "\u001b[38;5;4mℹ Loading NER...\u001b[0m\n",
      "\u001b[38;5;4mℹ NER will run on CPU!\u001b[0m\n",
      "\u001b[38;5;4mℹ Processing documents with Legal NER!!!\u001b[0m\n"
     ]
    },
    {
     "name": "stderr",
     "output_type": "stream",
     "text": [
      "\n",
      "  0%|                                                     | 0/1 [00:00<?, ?it/s]\u001b[A\n",
      "100%|█████████████████████████████████████████████| 1/1 [00:10<00:00, 10.68s/it]\u001b[A\n",
      "  5%|██                                     | 62/1152 [22:12<7:45:52, 25.64s/it]"
     ]
    },
    {
     "name": "stdout",
     "output_type": "stream",
     "text": [
      "\u001b[38;5;4mℹ Pre-processing will happen on CPU!\u001b[0m\n",
      "\u001b[38;5;4mℹ Loading NER...\u001b[0m\n",
      "\u001b[38;5;4mℹ NER will run on CPU!\u001b[0m\n",
      "\u001b[38;5;4mℹ Processing documents with Legal NER!!!\u001b[0m\n"
     ]
    },
    {
     "name": "stderr",
     "output_type": "stream",
     "text": [
      "\n",
      "  0%|                                                     | 0/1 [00:00<?, ?it/s]\u001b[A\n",
      "100%|█████████████████████████████████████████████| 1/1 [00:14<00:00, 14.13s/it]\u001b[A\n",
      "  5%|██▏                                    | 63/1152 [22:31<7:05:14, 23.43s/it]"
     ]
    },
    {
     "name": "stdout",
     "output_type": "stream",
     "text": [
      "\u001b[38;5;4mℹ Pre-processing will happen on CPU!\u001b[0m\n",
      "\u001b[38;5;4mℹ Loading NER...\u001b[0m\n",
      "\u001b[38;5;4mℹ NER will run on CPU!\u001b[0m\n",
      "\u001b[38;5;4mℹ Processing documents with Legal NER!!!\u001b[0m\n"
     ]
    },
    {
     "name": "stderr",
     "output_type": "stream",
     "text": [
      "\n",
      "  0%|                                                     | 0/1 [00:00<?, ?it/s]\u001b[A\n",
      "100%|█████████████████████████████████████████████| 1/1 [00:10<00:00, 10.13s/it]\u001b[A\n",
      "  6%|██▏                                    | 64/1152 [22:45<6:16:19, 20.75s/it]"
     ]
    },
    {
     "name": "stdout",
     "output_type": "stream",
     "text": [
      "\u001b[38;5;4mℹ Pre-processing will happen on CPU!\u001b[0m\n",
      "\u001b[38;5;4mℹ Loading NER...\u001b[0m\n",
      "\u001b[38;5;4mℹ NER will run on CPU!\u001b[0m\n",
      "\u001b[38;5;4mℹ Processing documents with Legal NER!!!\u001b[0m\n"
     ]
    },
    {
     "name": "stderr",
     "output_type": "stream",
     "text": [
      "\n",
      "  0%|                                                     | 0/1 [00:00<?, ?it/s]\u001b[A\n",
      "100%|█████████████████████████████████████████████| 1/1 [00:07<00:00,  7.16s/it]\u001b[A\n",
      "  6%|██▏                                    | 65/1152 [22:56<5:25:10, 17.95s/it]"
     ]
    },
    {
     "name": "stdout",
     "output_type": "stream",
     "text": [
      "\u001b[38;5;4mℹ Pre-processing will happen on CPU!\u001b[0m\n",
      "\u001b[38;5;4mℹ Loading NER...\u001b[0m\n",
      "\u001b[38;5;4mℹ NER will run on CPU!\u001b[0m\n",
      "\u001b[38;5;4mℹ Processing documents with Legal NER!!!\u001b[0m\n"
     ]
    },
    {
     "name": "stderr",
     "output_type": "stream",
     "text": [
      "\n",
      "  0%|                                                     | 0/1 [00:00<?, ?it/s]\u001b[A\n",
      "100%|█████████████████████████████████████████████| 1/1 [00:51<00:00, 51.96s/it]\u001b[A\n",
      "  6%|██▏                                    | 66/1152 [23:53<8:54:22, 29.52s/it]"
     ]
    },
    {
     "name": "stdout",
     "output_type": "stream",
     "text": [
      "\u001b[38;5;4mℹ Pre-processing will happen on CPU!\u001b[0m\n",
      "\u001b[38;5;4mℹ Loading NER...\u001b[0m\n",
      "\u001b[38;5;4mℹ NER will run on CPU!\u001b[0m\n",
      "\u001b[38;5;4mℹ Processing documents with Legal NER!!!\u001b[0m\n"
     ]
    },
    {
     "name": "stderr",
     "output_type": "stream",
     "text": [
      "\n",
      "  0%|                                                     | 0/1 [00:00<?, ?it/s]\u001b[A\n",
      "100%|█████████████████████████████████████████████| 1/1 [00:12<00:00, 12.52s/it]\u001b[A\n",
      "  6%|██▎                                    | 67/1152 [24:10<7:45:45, 25.76s/it]"
     ]
    },
    {
     "name": "stdout",
     "output_type": "stream",
     "text": [
      "\u001b[38;5;4mℹ Pre-processing will happen on CPU!\u001b[0m\n",
      "\u001b[38;5;4mℹ Loading NER...\u001b[0m\n",
      "\u001b[38;5;4mℹ NER will run on CPU!\u001b[0m\n",
      "\u001b[38;5;4mℹ Processing documents with Legal NER!!!\u001b[0m\n"
     ]
    },
    {
     "name": "stderr",
     "output_type": "stream",
     "text": [
      "\n",
      "  0%|                                                     | 0/1 [00:00<?, ?it/s]\u001b[A\n",
      "100%|█████████████████████████████████████████████| 1/1 [00:20<00:00, 20.65s/it]\u001b[A\n",
      "  6%|██▎                                    | 68/1152 [24:35<7:42:01, 25.57s/it]"
     ]
    },
    {
     "name": "stdout",
     "output_type": "stream",
     "text": [
      "\u001b[38;5;3m⚠ There was some issue while performing postprocessing for doc id\n",
      "066ac9ca5d713fb0ce8ce8d06e022108563ad10b66eb46c960c6595b48b8321d.\n",
      "Some of postprocessing info may be absent because of this in doc.\u001b[0m\n",
      "\u001b[38;5;4mℹ Pre-processing will happen on CPU!\u001b[0m\n",
      "\u001b[38;5;4mℹ Loading NER...\u001b[0m\n",
      "\u001b[38;5;4mℹ NER will run on CPU!\u001b[0m\n",
      "\u001b[38;5;4mℹ Processing documents with Legal NER!!!\u001b[0m\n"
     ]
    },
    {
     "name": "stderr",
     "output_type": "stream",
     "text": [
      "\n",
      "  0%|                                                     | 0/1 [00:00<?, ?it/s]\u001b[A\n",
      "100%|█████████████████████████████████████████████| 1/1 [00:11<00:00, 11.35s/it]\u001b[A\n",
      "  6%|██▎                                    | 69/1152 [24:51<6:48:04, 22.61s/it]"
     ]
    },
    {
     "name": "stdout",
     "output_type": "stream",
     "text": [
      "\u001b[38;5;4mℹ Pre-processing will happen on CPU!\u001b[0m\n",
      "\u001b[38;5;4mℹ Loading NER...\u001b[0m\n",
      "\u001b[38;5;4mℹ NER will run on CPU!\u001b[0m\n",
      "\u001b[38;5;4mℹ Processing documents with Legal NER!!!\u001b[0m\n"
     ]
    },
    {
     "name": "stderr",
     "output_type": "stream",
     "text": [
      "\n",
      "  0%|                                                     | 0/1 [00:05<?, ?it/s]\u001b[A\n",
      "  6%|██▎                                    | 69/1152 [25:01<6:32:42, 21.76s/it]\n"
     ]
    },
    {
     "ename": "KeyboardInterrupt",
     "evalue": "",
     "output_type": "error",
     "traceback": [
      "\u001b[0;31m---------------------------------------------------------------------------\u001b[0m",
      "\u001b[0;31mKeyboardInterrupt\u001b[0m                         Traceback (most recent call last)",
      "\u001b[0;32m/tmp/ipykernel_99683/725127190.py\u001b[0m in \u001b[0;36m<module>\u001b[0;34m\u001b[0m\n\u001b[1;32m     17\u001b[0m                    ner_statute_shortforms_path='')\n\u001b[1;32m     18\u001b[0m \u001b[0;34m\u001b[0m\u001b[0m\n\u001b[0;32m---> 19\u001b[0;31m     \u001b[0mresults\u001b[0m \u001b[0;34m=\u001b[0m \u001b[0mpipeline\u001b[0m\u001b[0;34m(\u001b[0m\u001b[0mdata\u001b[0m\u001b[0;34m)\u001b[0m\u001b[0;34m\u001b[0m\u001b[0;34m\u001b[0m\u001b[0m\n\u001b[0m\u001b[1;32m     20\u001b[0m     \u001b[0mner_doc_1\u001b[0m \u001b[0;34m=\u001b[0m \u001b[0mpipeline\u001b[0m\u001b[0;34m.\u001b[0m\u001b[0m_ner_model_output\u001b[0m\u001b[0;34m[\u001b[0m\u001b[0;36m0\u001b[0m\u001b[0;34m]\u001b[0m\u001b[0;34m\u001b[0m\u001b[0;34m\u001b[0m\u001b[0m\n\u001b[1;32m     21\u001b[0m \u001b[0;34m\u001b[0m\u001b[0m\n",
      "\u001b[0;32m~/anaconda3/lib/python3.9/site-packages/opennyai/pipeline.py\u001b[0m in \u001b[0;36m__call__\u001b[0;34m(self, data)\u001b[0m\n\u001b[1;32m    116\u001b[0m         \u001b[0mner_json_results\u001b[0m\u001b[0;34m,\u001b[0m \u001b[0mself\u001b[0m\u001b[0;34m.\u001b[0m\u001b[0m_ner_model_output\u001b[0m\u001b[0;34m,\u001b[0m \u001b[0mself\u001b[0m\u001b[0;34m.\u001b[0m\u001b[0m_rr_model_output\u001b[0m\u001b[0;34m,\u001b[0m \u001b[0mself\u001b[0m\u001b[0;34m.\u001b[0m\u001b[0m_summarizer_model_output\u001b[0m \u001b[0;34m=\u001b[0m \u001b[0;32mNone\u001b[0m\u001b[0;34m,\u001b[0m \u001b[0;32mNone\u001b[0m\u001b[0;34m,\u001b[0m \u001b[0;32mNone\u001b[0m\u001b[0;34m,\u001b[0m \u001b[0;32mNone\u001b[0m\u001b[0;34m\u001b[0m\u001b[0;34m\u001b[0m\u001b[0m\n\u001b[1;32m    117\u001b[0m         \u001b[0;32mif\u001b[0m \u001b[0;34m'NER'\u001b[0m \u001b[0;32min\u001b[0m \u001b[0mself\u001b[0m\u001b[0;34m.\u001b[0m\u001b[0mcomponents\u001b[0m\u001b[0;34m:\u001b[0m\u001b[0;34m\u001b[0m\u001b[0;34m\u001b[0m\u001b[0m\n\u001b[0;32m--> 118\u001b[0;31m             self._ner_model_output = self.__ner_extractor__(data, verbose=self.__verbose__,\n\u001b[0m\u001b[1;32m    119\u001b[0m                                                             \u001b[0mdo_sentence_level\u001b[0m\u001b[0;34m=\u001b[0m\u001b[0mself\u001b[0m\u001b[0;34m.\u001b[0m\u001b[0m__do_sentence_level__\u001b[0m\u001b[0;34m,\u001b[0m\u001b[0;34m\u001b[0m\u001b[0;34m\u001b[0m\u001b[0m\n\u001b[1;32m    120\u001b[0m                                                             \u001b[0mdo_postprocess\u001b[0m\u001b[0;34m=\u001b[0m\u001b[0mself\u001b[0m\u001b[0;34m.\u001b[0m\u001b[0m__do_postprocess__\u001b[0m\u001b[0;34m,\u001b[0m\u001b[0;34m\u001b[0m\u001b[0;34m\u001b[0m\u001b[0m\n",
      "\u001b[0;32m~/anaconda3/lib/python3.9/site-packages/opennyai/ner/InLegalNER/InLegalNER.py\u001b[0m in \u001b[0;36m__call__\u001b[0;34m(self, data, do_sentence_level, do_postprocess, mini_batch_size, verbose, statute_shortforms_path)\u001b[0m\n\u001b[1;32m     61\u001b[0m             \u001b[0mmsg\u001b[0m\u001b[0;34m.\u001b[0m\u001b[0minfo\u001b[0m\u001b[0;34m(\u001b[0m\u001b[0;34m'Processing documents with Legal NER!!!'\u001b[0m\u001b[0;34m)\u001b[0m\u001b[0;34m\u001b[0m\u001b[0;34m\u001b[0m\u001b[0m\n\u001b[1;32m     62\u001b[0m         \u001b[0;32mfor\u001b[0m \u001b[0mto_process\u001b[0m \u001b[0;32min\u001b[0m \u001b[0mtqdm\u001b[0m\u001b[0;34m(\u001b[0m\u001b[0mdata\u001b[0m\u001b[0;34m,\u001b[0m \u001b[0mdisable\u001b[0m\u001b[0;34m=\u001b[0m\u001b[0;32mnot\u001b[0m \u001b[0mverbose\u001b[0m\u001b[0;34m)\u001b[0m\u001b[0;34m:\u001b[0m\u001b[0;34m\u001b[0m\u001b[0;34m\u001b[0m\u001b[0m\n\u001b[0;32m---> 63\u001b[0;31m             nlp_doc = extract_entities_from_judgment_text(to_process=to_process, legal_nlp=self.nlp,\n\u001b[0m\u001b[1;32m     64\u001b[0m                                                           \u001b[0mdo_sentence_level\u001b[0m\u001b[0;34m=\u001b[0m\u001b[0mdo_sentence_level\u001b[0m\u001b[0;34m,\u001b[0m\u001b[0;34m\u001b[0m\u001b[0;34m\u001b[0m\u001b[0m\n\u001b[1;32m     65\u001b[0m                                                           mini_batch_size=mini_batch_size)\n",
      "\u001b[0;32m~/anaconda3/lib/python3.9/site-packages/opennyai/ner/InLegalNER/entity_recognizer_utils.py\u001b[0m in \u001b[0;36mextract_entities_from_judgment_text\u001b[0;34m(to_process, legal_nlp, mini_batch_size, do_sentence_level)\u001b[0m\n\u001b[1;32m     12\u001b[0m         \u001b[0mpreamble\u001b[0m \u001b[0;34m=\u001b[0m \u001b[0mto_process\u001b[0m\u001b[0;34m[\u001b[0m\u001b[0;34m'preamble_doc'\u001b[0m\u001b[0;34m]\u001b[0m\u001b[0;34m\u001b[0m\u001b[0;34m\u001b[0m\u001b[0m\n\u001b[1;32m     13\u001b[0m         \u001b[0;32mif\u001b[0m \u001b[0mdo_sentence_level\u001b[0m\u001b[0;34m:\u001b[0m\u001b[0;34m\u001b[0m\u001b[0;34m\u001b[0m\u001b[0m\n\u001b[0;32m---> 14\u001b[0;31m             \u001b[0mdoc_judgement\u001b[0m \u001b[0;34m=\u001b[0m \u001b[0mget_sentence_docs\u001b[0m\u001b[0;34m(\u001b[0m\u001b[0mjudgement\u001b[0m\u001b[0;34m,\u001b[0m \u001b[0mlegal_nlp\u001b[0m\u001b[0;34m)\u001b[0m\u001b[0;34m\u001b[0m\u001b[0;34m\u001b[0m\u001b[0m\n\u001b[0m\u001b[1;32m     15\u001b[0m             \u001b[0mdoc_preamble\u001b[0m \u001b[0;34m=\u001b[0m \u001b[0mprocess_nlp_in_chunks\u001b[0m\u001b[0;34m(\u001b[0m\u001b[0mpreamble\u001b[0m\u001b[0;34m.\u001b[0m\u001b[0mtext\u001b[0m\u001b[0;34m,\u001b[0m \u001b[0mmini_batch_size\u001b[0m\u001b[0;34m,\u001b[0m \u001b[0mlegal_nlp\u001b[0m\u001b[0;34m)\u001b[0m\u001b[0;34m\u001b[0m\u001b[0;34m\u001b[0m\u001b[0m\n\u001b[1;32m     16\u001b[0m         \u001b[0;32melse\u001b[0m\u001b[0;34m:\u001b[0m\u001b[0;34m\u001b[0m\u001b[0;34m\u001b[0m\u001b[0m\n",
      "\u001b[0;32m~/anaconda3/lib/python3.9/site-packages/opennyai/ner/InLegalNER/entity_recognizer_utils.py\u001b[0m in \u001b[0;36mget_sentence_docs\u001b[0;34m(doc_judgment, nlp_judgment)\u001b[0m\n\u001b[1;32m     27\u001b[0m     \u001b[0msentences\u001b[0m \u001b[0;34m=\u001b[0m \u001b[0;34m[\u001b[0m\u001b[0msent\u001b[0m\u001b[0;34m.\u001b[0m\u001b[0mtext\u001b[0m \u001b[0;32mfor\u001b[0m \u001b[0msent\u001b[0m \u001b[0;32min\u001b[0m \u001b[0mdoc_judgment\u001b[0m\u001b[0;34m.\u001b[0m\u001b[0msents\u001b[0m\u001b[0;34m]\u001b[0m\u001b[0;34m\u001b[0m\u001b[0;34m\u001b[0m\u001b[0m\n\u001b[1;32m     28\u001b[0m     \u001b[0mdocs\u001b[0m \u001b[0;34m=\u001b[0m \u001b[0;34m[\u001b[0m\u001b[0;34m]\u001b[0m\u001b[0;34m\u001b[0m\u001b[0;34m\u001b[0m\u001b[0m\n\u001b[0;32m---> 29\u001b[0;31m     \u001b[0;32mfor\u001b[0m \u001b[0mdoc\u001b[0m \u001b[0;32min\u001b[0m \u001b[0mnlp_judgment\u001b[0m\u001b[0;34m.\u001b[0m\u001b[0mpipe\u001b[0m\u001b[0;34m(\u001b[0m\u001b[0msentences\u001b[0m\u001b[0;34m)\u001b[0m\u001b[0;34m:\u001b[0m\u001b[0;34m\u001b[0m\u001b[0;34m\u001b[0m\u001b[0m\n\u001b[0m\u001b[1;32m     30\u001b[0m         \u001b[0mdocs\u001b[0m\u001b[0;34m.\u001b[0m\u001b[0mappend\u001b[0m\u001b[0;34m(\u001b[0m\u001b[0mdoc\u001b[0m\u001b[0;34m)\u001b[0m\u001b[0;34m\u001b[0m\u001b[0;34m\u001b[0m\u001b[0m\n\u001b[1;32m     31\u001b[0m     \u001b[0mcombined_docs\u001b[0m \u001b[0;34m=\u001b[0m \u001b[0mspacy\u001b[0m\u001b[0;34m.\u001b[0m\u001b[0mtokens\u001b[0m\u001b[0;34m.\u001b[0m\u001b[0mDoc\u001b[0m\u001b[0;34m.\u001b[0m\u001b[0mfrom_docs\u001b[0m\u001b[0;34m(\u001b[0m\u001b[0mdocs\u001b[0m\u001b[0;34m)\u001b[0m\u001b[0;34m\u001b[0m\u001b[0;34m\u001b[0m\u001b[0m\n",
      "\u001b[0;32m~/anaconda3/lib/python3.9/site-packages/spacy/language.py\u001b[0m in \u001b[0;36mpipe\u001b[0;34m(self, texts, as_tuples, batch_size, disable, component_cfg, n_process)\u001b[0m\n\u001b[1;32m   1573\u001b[0m             \u001b[0;32mfor\u001b[0m \u001b[0mpipe\u001b[0m \u001b[0;32min\u001b[0m \u001b[0mpipes\u001b[0m\u001b[0;34m:\u001b[0m\u001b[0;34m\u001b[0m\u001b[0;34m\u001b[0m\u001b[0m\n\u001b[1;32m   1574\u001b[0m                 \u001b[0mdocs\u001b[0m \u001b[0;34m=\u001b[0m \u001b[0mpipe\u001b[0m\u001b[0;34m(\u001b[0m\u001b[0mdocs\u001b[0m\u001b[0;34m)\u001b[0m\u001b[0;34m\u001b[0m\u001b[0;34m\u001b[0m\u001b[0m\n\u001b[0;32m-> 1575\u001b[0;31m         \u001b[0;32mfor\u001b[0m \u001b[0mdoc\u001b[0m \u001b[0;32min\u001b[0m \u001b[0mdocs\u001b[0m\u001b[0;34m:\u001b[0m\u001b[0;34m\u001b[0m\u001b[0;34m\u001b[0m\u001b[0m\n\u001b[0m\u001b[1;32m   1576\u001b[0m             \u001b[0;32myield\u001b[0m \u001b[0mdoc\u001b[0m\u001b[0;34m\u001b[0m\u001b[0;34m\u001b[0m\u001b[0m\n\u001b[1;32m   1577\u001b[0m \u001b[0;34m\u001b[0m\u001b[0m\n",
      "\u001b[0;32m~/anaconda3/lib/python3.9/site-packages/spacy/util.py\u001b[0m in \u001b[0;36m_pipe\u001b[0;34m(docs, proc, name, default_error_handler, kwargs)\u001b[0m\n\u001b[1;32m   1596\u001b[0m ) -> Iterator[\"Doc\"]:\n\u001b[1;32m   1597\u001b[0m     \u001b[0;32mif\u001b[0m \u001b[0mhasattr\u001b[0m\u001b[0;34m(\u001b[0m\u001b[0mproc\u001b[0m\u001b[0;34m,\u001b[0m \u001b[0;34m\"pipe\"\u001b[0m\u001b[0;34m)\u001b[0m\u001b[0;34m:\u001b[0m\u001b[0;34m\u001b[0m\u001b[0;34m\u001b[0m\u001b[0m\n\u001b[0;32m-> 1598\u001b[0;31m         \u001b[0;32myield\u001b[0m \u001b[0;32mfrom\u001b[0m \u001b[0mproc\u001b[0m\u001b[0;34m.\u001b[0m\u001b[0mpipe\u001b[0m\u001b[0;34m(\u001b[0m\u001b[0mdocs\u001b[0m\u001b[0;34m,\u001b[0m \u001b[0;34m**\u001b[0m\u001b[0mkwargs\u001b[0m\u001b[0;34m)\u001b[0m\u001b[0;34m\u001b[0m\u001b[0;34m\u001b[0m\u001b[0m\n\u001b[0m\u001b[1;32m   1599\u001b[0m     \u001b[0;32melse\u001b[0m\u001b[0;34m:\u001b[0m\u001b[0;34m\u001b[0m\u001b[0;34m\u001b[0m\u001b[0m\n\u001b[1;32m   1600\u001b[0m         \u001b[0;31m# We added some args for pipe that __call__ doesn't expect.\u001b[0m\u001b[0;34m\u001b[0m\u001b[0;34m\u001b[0m\u001b[0m\n",
      "\u001b[0;32m~/anaconda3/lib/python3.9/site-packages/spacy/pipeline/transition_parser.pyx\u001b[0m in \u001b[0;36mpipe\u001b[0;34m()\u001b[0m\n",
      "\u001b[0;32m~/anaconda3/lib/python3.9/site-packages/spacy/util.py\u001b[0m in \u001b[0;36mminibatch\u001b[0;34m(items, size)\u001b[0m\n\u001b[1;32m   1545\u001b[0m     \u001b[0;32mwhile\u001b[0m \u001b[0;32mTrue\u001b[0m\u001b[0;34m:\u001b[0m\u001b[0;34m\u001b[0m\u001b[0;34m\u001b[0m\u001b[0m\n\u001b[1;32m   1546\u001b[0m         \u001b[0mbatch_size\u001b[0m \u001b[0;34m=\u001b[0m \u001b[0mnext\u001b[0m\u001b[0;34m(\u001b[0m\u001b[0msize_\u001b[0m\u001b[0;34m)\u001b[0m\u001b[0;34m\u001b[0m\u001b[0;34m\u001b[0m\u001b[0m\n\u001b[0;32m-> 1547\u001b[0;31m         \u001b[0mbatch\u001b[0m \u001b[0;34m=\u001b[0m \u001b[0mlist\u001b[0m\u001b[0;34m(\u001b[0m\u001b[0mitertools\u001b[0m\u001b[0;34m.\u001b[0m\u001b[0mislice\u001b[0m\u001b[0;34m(\u001b[0m\u001b[0mitems\u001b[0m\u001b[0;34m,\u001b[0m \u001b[0mint\u001b[0m\u001b[0;34m(\u001b[0m\u001b[0mbatch_size\u001b[0m\u001b[0;34m)\u001b[0m\u001b[0;34m)\u001b[0m\u001b[0;34m)\u001b[0m\u001b[0;34m\u001b[0m\u001b[0;34m\u001b[0m\u001b[0m\n\u001b[0m\u001b[1;32m   1548\u001b[0m         \u001b[0;32mif\u001b[0m \u001b[0mlen\u001b[0m\u001b[0;34m(\u001b[0m\u001b[0mbatch\u001b[0m\u001b[0;34m)\u001b[0m \u001b[0;34m==\u001b[0m \u001b[0;36m0\u001b[0m\u001b[0;34m:\u001b[0m\u001b[0;34m\u001b[0m\u001b[0;34m\u001b[0m\u001b[0m\n\u001b[1;32m   1549\u001b[0m             \u001b[0;32mbreak\u001b[0m\u001b[0;34m\u001b[0m\u001b[0;34m\u001b[0m\u001b[0m\n",
      "\u001b[0;32m~/anaconda3/lib/python3.9/site-packages/spacy/util.py\u001b[0m in \u001b[0;36m_pipe\u001b[0;34m(docs, proc, name, default_error_handler, kwargs)\u001b[0m\n\u001b[1;32m   1596\u001b[0m ) -> Iterator[\"Doc\"]:\n\u001b[1;32m   1597\u001b[0m     \u001b[0;32mif\u001b[0m \u001b[0mhasattr\u001b[0m\u001b[0;34m(\u001b[0m\u001b[0mproc\u001b[0m\u001b[0;34m,\u001b[0m \u001b[0;34m\"pipe\"\u001b[0m\u001b[0;34m)\u001b[0m\u001b[0;34m:\u001b[0m\u001b[0;34m\u001b[0m\u001b[0;34m\u001b[0m\u001b[0m\n\u001b[0;32m-> 1598\u001b[0;31m         \u001b[0;32myield\u001b[0m \u001b[0;32mfrom\u001b[0m \u001b[0mproc\u001b[0m\u001b[0;34m.\u001b[0m\u001b[0mpipe\u001b[0m\u001b[0;34m(\u001b[0m\u001b[0mdocs\u001b[0m\u001b[0;34m,\u001b[0m \u001b[0;34m**\u001b[0m\u001b[0mkwargs\u001b[0m\u001b[0;34m)\u001b[0m\u001b[0;34m\u001b[0m\u001b[0;34m\u001b[0m\u001b[0m\n\u001b[0m\u001b[1;32m   1599\u001b[0m     \u001b[0;32melse\u001b[0m\u001b[0;34m:\u001b[0m\u001b[0;34m\u001b[0m\u001b[0;34m\u001b[0m\u001b[0m\n\u001b[1;32m   1600\u001b[0m         \u001b[0;31m# We added some args for pipe that __call__ doesn't expect.\u001b[0m\u001b[0;34m\u001b[0m\u001b[0;34m\u001b[0m\u001b[0m\n",
      "\u001b[0;32m~/anaconda3/lib/python3.9/site-packages/spacy_transformers/pipeline_component.py\u001b[0m in \u001b[0;36mpipe\u001b[0;34m(self, stream, batch_size)\u001b[0m\n\u001b[1;32m    210\u001b[0m             \u001b[0;32mfor\u001b[0m \u001b[0mindices\u001b[0m \u001b[0;32min\u001b[0m \u001b[0mbatch_by_length\u001b[0m\u001b[0;34m(\u001b[0m\u001b[0mouter_batch\u001b[0m\u001b[0;34m,\u001b[0m \u001b[0mself\u001b[0m\u001b[0;34m.\u001b[0m\u001b[0mcfg\u001b[0m\u001b[0;34m[\u001b[0m\u001b[0;34m\"max_batch_items\"\u001b[0m\u001b[0;34m]\u001b[0m\u001b[0;34m)\u001b[0m\u001b[0;34m:\u001b[0m\u001b[0;34m\u001b[0m\u001b[0;34m\u001b[0m\u001b[0m\n\u001b[1;32m    211\u001b[0m                 \u001b[0msubbatch\u001b[0m \u001b[0;34m=\u001b[0m \u001b[0;34m[\u001b[0m\u001b[0mouter_batch\u001b[0m\u001b[0;34m[\u001b[0m\u001b[0mi\u001b[0m\u001b[0;34m]\u001b[0m \u001b[0;32mfor\u001b[0m \u001b[0mi\u001b[0m \u001b[0;32min\u001b[0m \u001b[0mindices\u001b[0m\u001b[0;34m]\u001b[0m\u001b[0;34m\u001b[0m\u001b[0;34m\u001b[0m\u001b[0m\n\u001b[0;32m--> 212\u001b[0;31m                 \u001b[0mself\u001b[0m\u001b[0;34m.\u001b[0m\u001b[0mset_annotations\u001b[0m\u001b[0;34m(\u001b[0m\u001b[0msubbatch\u001b[0m\u001b[0;34m,\u001b[0m \u001b[0mself\u001b[0m\u001b[0;34m.\u001b[0m\u001b[0mpredict\u001b[0m\u001b[0;34m(\u001b[0m\u001b[0msubbatch\u001b[0m\u001b[0;34m)\u001b[0m\u001b[0;34m)\u001b[0m\u001b[0;34m\u001b[0m\u001b[0;34m\u001b[0m\u001b[0m\n\u001b[0m\u001b[1;32m    213\u001b[0m             \u001b[0;32myield\u001b[0m \u001b[0;32mfrom\u001b[0m \u001b[0mouter_batch\u001b[0m\u001b[0;34m\u001b[0m\u001b[0;34m\u001b[0m\u001b[0m\n\u001b[1;32m    214\u001b[0m \u001b[0;34m\u001b[0m\u001b[0m\n",
      "\u001b[0;32m~/anaconda3/lib/python3.9/site-packages/spacy_transformers/pipeline_component.py\u001b[0m in \u001b[0;36mpredict\u001b[0;34m(self, docs)\u001b[0m\n\u001b[1;32m    226\u001b[0m             \u001b[0mactivations\u001b[0m \u001b[0;34m=\u001b[0m \u001b[0mFullTransformerBatch\u001b[0m\u001b[0;34m.\u001b[0m\u001b[0mempty\u001b[0m\u001b[0;34m(\u001b[0m\u001b[0mlen\u001b[0m\u001b[0;34m(\u001b[0m\u001b[0mdocs\u001b[0m\u001b[0;34m)\u001b[0m\u001b[0;34m)\u001b[0m\u001b[0;34m\u001b[0m\u001b[0;34m\u001b[0m\u001b[0m\n\u001b[1;32m    227\u001b[0m         \u001b[0;32melse\u001b[0m\u001b[0;34m:\u001b[0m\u001b[0;34m\u001b[0m\u001b[0;34m\u001b[0m\u001b[0m\n\u001b[0;32m--> 228\u001b[0;31m             \u001b[0mactivations\u001b[0m \u001b[0;34m=\u001b[0m \u001b[0mself\u001b[0m\u001b[0;34m.\u001b[0m\u001b[0mmodel\u001b[0m\u001b[0;34m.\u001b[0m\u001b[0mpredict\u001b[0m\u001b[0;34m(\u001b[0m\u001b[0mdocs\u001b[0m\u001b[0;34m)\u001b[0m\u001b[0;34m\u001b[0m\u001b[0;34m\u001b[0m\u001b[0m\n\u001b[0m\u001b[1;32m    229\u001b[0m         \u001b[0mbatch_id\u001b[0m \u001b[0;34m=\u001b[0m \u001b[0mTransformerListener\u001b[0m\u001b[0;34m.\u001b[0m\u001b[0mget_batch_id\u001b[0m\u001b[0;34m(\u001b[0m\u001b[0mdocs\u001b[0m\u001b[0;34m)\u001b[0m\u001b[0;34m\u001b[0m\u001b[0;34m\u001b[0m\u001b[0m\n\u001b[1;32m    230\u001b[0m         \u001b[0;32mfor\u001b[0m \u001b[0mlistener\u001b[0m \u001b[0;32min\u001b[0m \u001b[0mself\u001b[0m\u001b[0;34m.\u001b[0m\u001b[0mlisteners\u001b[0m\u001b[0;34m:\u001b[0m\u001b[0;34m\u001b[0m\u001b[0;34m\u001b[0m\u001b[0m\n",
      "\u001b[0;32m~/anaconda3/lib/python3.9/site-packages/thinc/model.py\u001b[0m in \u001b[0;36mpredict\u001b[0;34m(self, X)\u001b[0m\n\u001b[1;32m    313\u001b[0m         \u001b[0monly\u001b[0m \u001b[0mthe\u001b[0m \u001b[0moutput\u001b[0m\u001b[0;34m,\u001b[0m \u001b[0minstead\u001b[0m \u001b[0mof\u001b[0m \u001b[0mthe\u001b[0m\u001b[0;31m \u001b[0m\u001b[0;31m`\u001b[0m\u001b[0;34m(\u001b[0m\u001b[0moutput\u001b[0m\u001b[0;34m,\u001b[0m \u001b[0mcallback\u001b[0m\u001b[0;34m)\u001b[0m\u001b[0;31m`\u001b[0m \u001b[0mtuple\u001b[0m\u001b[0;34m.\u001b[0m\u001b[0;34m\u001b[0m\u001b[0;34m\u001b[0m\u001b[0m\n\u001b[1;32m    314\u001b[0m         \"\"\"\n\u001b[0;32m--> 315\u001b[0;31m         \u001b[0;32mreturn\u001b[0m \u001b[0mself\u001b[0m\u001b[0;34m.\u001b[0m\u001b[0m_func\u001b[0m\u001b[0;34m(\u001b[0m\u001b[0mself\u001b[0m\u001b[0;34m,\u001b[0m \u001b[0mX\u001b[0m\u001b[0;34m,\u001b[0m \u001b[0mis_train\u001b[0m\u001b[0;34m=\u001b[0m\u001b[0;32mFalse\u001b[0m\u001b[0;34m)\u001b[0m\u001b[0;34m[\u001b[0m\u001b[0;36m0\u001b[0m\u001b[0;34m]\u001b[0m\u001b[0;34m\u001b[0m\u001b[0;34m\u001b[0m\u001b[0m\n\u001b[0m\u001b[1;32m    316\u001b[0m \u001b[0;34m\u001b[0m\u001b[0m\n\u001b[1;32m    317\u001b[0m     \u001b[0;32mdef\u001b[0m \u001b[0mfinish_update\u001b[0m\u001b[0;34m(\u001b[0m\u001b[0mself\u001b[0m\u001b[0;34m,\u001b[0m \u001b[0moptimizer\u001b[0m\u001b[0;34m:\u001b[0m \u001b[0mOptimizer\u001b[0m\u001b[0;34m)\u001b[0m \u001b[0;34m->\u001b[0m \u001b[0;32mNone\u001b[0m\u001b[0;34m:\u001b[0m\u001b[0;34m\u001b[0m\u001b[0;34m\u001b[0m\u001b[0m\n",
      "\u001b[0;32m~/anaconda3/lib/python3.9/site-packages/spacy_transformers/layers/transformer_model.py\u001b[0m in \u001b[0;36mforward\u001b[0;34m(model, docs, is_train)\u001b[0m\n\u001b[1;32m    183\u001b[0m         \u001b[0mwordpieces\u001b[0m\u001b[0;34m,\u001b[0m \u001b[0malign\u001b[0m\u001b[0;34m,\u001b[0m \u001b[0mtokenizer\u001b[0m\u001b[0;34m.\u001b[0m\u001b[0mmodel_max_length\u001b[0m\u001b[0;34m\u001b[0m\u001b[0;34m\u001b[0m\u001b[0m\n\u001b[1;32m    184\u001b[0m     )\n\u001b[0;32m--> 185\u001b[0;31m     \u001b[0mmodel_output\u001b[0m\u001b[0;34m,\u001b[0m \u001b[0mbp_tensors\u001b[0m \u001b[0;34m=\u001b[0m \u001b[0mtransformer\u001b[0m\u001b[0;34m(\u001b[0m\u001b[0mwordpieces\u001b[0m\u001b[0;34m,\u001b[0m \u001b[0mis_train\u001b[0m\u001b[0;34m)\u001b[0m\u001b[0;34m\u001b[0m\u001b[0;34m\u001b[0m\u001b[0m\n\u001b[0m\u001b[1;32m    186\u001b[0m     \u001b[0;32mif\u001b[0m \u001b[0;34m\"logger\"\u001b[0m \u001b[0;32min\u001b[0m \u001b[0mmodel\u001b[0m\u001b[0;34m.\u001b[0m\u001b[0mattrs\u001b[0m\u001b[0;34m:\u001b[0m\u001b[0;34m\u001b[0m\u001b[0;34m\u001b[0m\u001b[0m\n\u001b[1;32m    187\u001b[0m         \u001b[0mlog_gpu_memory\u001b[0m\u001b[0;34m(\u001b[0m\u001b[0mmodel\u001b[0m\u001b[0;34m.\u001b[0m\u001b[0mattrs\u001b[0m\u001b[0;34m[\u001b[0m\u001b[0;34m\"logger\"\u001b[0m\u001b[0;34m]\u001b[0m\u001b[0;34m,\u001b[0m \u001b[0;34m\"after forward\"\u001b[0m\u001b[0;34m)\u001b[0m\u001b[0;34m\u001b[0m\u001b[0;34m\u001b[0m\u001b[0m\n",
      "\u001b[0;32m~/anaconda3/lib/python3.9/site-packages/thinc/model.py\u001b[0m in \u001b[0;36m__call__\u001b[0;34m(self, X, is_train)\u001b[0m\n\u001b[1;32m    289\u001b[0m         \"\"\"Call the model's `forward` function, returning the output and a\n\u001b[1;32m    290\u001b[0m         callback to compute the gradients via backpropagation.\"\"\"\n\u001b[0;32m--> 291\u001b[0;31m         \u001b[0;32mreturn\u001b[0m \u001b[0mself\u001b[0m\u001b[0;34m.\u001b[0m\u001b[0m_func\u001b[0m\u001b[0;34m(\u001b[0m\u001b[0mself\u001b[0m\u001b[0;34m,\u001b[0m \u001b[0mX\u001b[0m\u001b[0;34m,\u001b[0m \u001b[0mis_train\u001b[0m\u001b[0;34m=\u001b[0m\u001b[0mis_train\u001b[0m\u001b[0;34m)\u001b[0m\u001b[0;34m\u001b[0m\u001b[0;34m\u001b[0m\u001b[0m\n\u001b[0m\u001b[1;32m    292\u001b[0m \u001b[0;34m\u001b[0m\u001b[0m\n\u001b[1;32m    293\u001b[0m     \u001b[0;32mdef\u001b[0m \u001b[0minitialize\u001b[0m\u001b[0;34m(\u001b[0m\u001b[0mself\u001b[0m\u001b[0;34m,\u001b[0m \u001b[0mX\u001b[0m\u001b[0;34m:\u001b[0m \u001b[0mOptional\u001b[0m\u001b[0;34m[\u001b[0m\u001b[0mInT\u001b[0m\u001b[0;34m]\u001b[0m \u001b[0;34m=\u001b[0m \u001b[0;32mNone\u001b[0m\u001b[0;34m,\u001b[0m \u001b[0mY\u001b[0m\u001b[0;34m:\u001b[0m \u001b[0mOptional\u001b[0m\u001b[0;34m[\u001b[0m\u001b[0mOutT\u001b[0m\u001b[0;34m]\u001b[0m \u001b[0;34m=\u001b[0m \u001b[0;32mNone\u001b[0m\u001b[0;34m)\u001b[0m \u001b[0;34m->\u001b[0m \u001b[0;34m\"Model\"\u001b[0m\u001b[0;34m:\u001b[0m\u001b[0;34m\u001b[0m\u001b[0;34m\u001b[0m\u001b[0m\n",
      "\u001b[0;32m~/anaconda3/lib/python3.9/site-packages/thinc/layers/pytorchwrapper.py\u001b[0m in \u001b[0;36mforward\u001b[0;34m(model, X, is_train)\u001b[0m\n\u001b[1;32m    132\u001b[0m \u001b[0;34m\u001b[0m\u001b[0m\n\u001b[1;32m    133\u001b[0m     \u001b[0mXtorch\u001b[0m\u001b[0;34m,\u001b[0m \u001b[0mget_dX\u001b[0m \u001b[0;34m=\u001b[0m \u001b[0mconvert_inputs\u001b[0m\u001b[0;34m(\u001b[0m\u001b[0mmodel\u001b[0m\u001b[0;34m,\u001b[0m \u001b[0mX\u001b[0m\u001b[0;34m,\u001b[0m \u001b[0mis_train\u001b[0m\u001b[0;34m)\u001b[0m\u001b[0;34m\u001b[0m\u001b[0;34m\u001b[0m\u001b[0m\n\u001b[0;32m--> 134\u001b[0;31m     \u001b[0mYtorch\u001b[0m\u001b[0;34m,\u001b[0m \u001b[0mtorch_backprop\u001b[0m \u001b[0;34m=\u001b[0m \u001b[0mmodel\u001b[0m\u001b[0;34m.\u001b[0m\u001b[0mshims\u001b[0m\u001b[0;34m[\u001b[0m\u001b[0;36m0\u001b[0m\u001b[0;34m]\u001b[0m\u001b[0;34m(\u001b[0m\u001b[0mXtorch\u001b[0m\u001b[0;34m,\u001b[0m \u001b[0mis_train\u001b[0m\u001b[0;34m)\u001b[0m\u001b[0;34m\u001b[0m\u001b[0;34m\u001b[0m\u001b[0m\n\u001b[0m\u001b[1;32m    135\u001b[0m     \u001b[0mY\u001b[0m\u001b[0;34m,\u001b[0m \u001b[0mget_dYtorch\u001b[0m \u001b[0;34m=\u001b[0m \u001b[0mconvert_outputs\u001b[0m\u001b[0;34m(\u001b[0m\u001b[0mmodel\u001b[0m\u001b[0;34m,\u001b[0m \u001b[0;34m(\u001b[0m\u001b[0mX\u001b[0m\u001b[0;34m,\u001b[0m \u001b[0mYtorch\u001b[0m\u001b[0;34m)\u001b[0m\u001b[0;34m,\u001b[0m \u001b[0mis_train\u001b[0m\u001b[0;34m)\u001b[0m\u001b[0;34m\u001b[0m\u001b[0;34m\u001b[0m\u001b[0m\n\u001b[1;32m    136\u001b[0m \u001b[0;34m\u001b[0m\u001b[0m\n",
      "\u001b[0;32m~/anaconda3/lib/python3.9/site-packages/thinc/shims/pytorch.py\u001b[0m in \u001b[0;36m__call__\u001b[0;34m(self, inputs, is_train)\u001b[0m\n\u001b[1;32m     65\u001b[0m             \u001b[0;32mreturn\u001b[0m \u001b[0mself\u001b[0m\u001b[0;34m.\u001b[0m\u001b[0mbegin_update\u001b[0m\u001b[0;34m(\u001b[0m\u001b[0minputs\u001b[0m\u001b[0;34m)\u001b[0m\u001b[0;34m\u001b[0m\u001b[0;34m\u001b[0m\u001b[0m\n\u001b[1;32m     66\u001b[0m         \u001b[0;32melse\u001b[0m\u001b[0;34m:\u001b[0m\u001b[0;34m\u001b[0m\u001b[0;34m\u001b[0m\u001b[0m\n\u001b[0;32m---> 67\u001b[0;31m             \u001b[0;32mreturn\u001b[0m \u001b[0mself\u001b[0m\u001b[0;34m.\u001b[0m\u001b[0mpredict\u001b[0m\u001b[0;34m(\u001b[0m\u001b[0minputs\u001b[0m\u001b[0;34m)\u001b[0m\u001b[0;34m,\u001b[0m \u001b[0;32mlambda\u001b[0m \u001b[0ma\u001b[0m\u001b[0;34m:\u001b[0m \u001b[0;34m...\u001b[0m\u001b[0;34m\u001b[0m\u001b[0;34m\u001b[0m\u001b[0m\n\u001b[0m\u001b[1;32m     68\u001b[0m \u001b[0;34m\u001b[0m\u001b[0m\n\u001b[1;32m     69\u001b[0m     \u001b[0;32mdef\u001b[0m \u001b[0mpredict\u001b[0m\u001b[0;34m(\u001b[0m\u001b[0mself\u001b[0m\u001b[0;34m,\u001b[0m \u001b[0minputs\u001b[0m\u001b[0;34m:\u001b[0m \u001b[0mArgsKwargs\u001b[0m\u001b[0;34m)\u001b[0m \u001b[0;34m->\u001b[0m \u001b[0mAny\u001b[0m\u001b[0;34m:\u001b[0m\u001b[0;34m\u001b[0m\u001b[0;34m\u001b[0m\u001b[0m\n",
      "\u001b[0;32m~/anaconda3/lib/python3.9/site-packages/thinc/shims/pytorch.py\u001b[0m in \u001b[0;36mpredict\u001b[0;34m(self, inputs)\u001b[0m\n\u001b[1;32m     75\u001b[0m         \u001b[0;32mwith\u001b[0m \u001b[0mtorch\u001b[0m\u001b[0;34m.\u001b[0m\u001b[0mno_grad\u001b[0m\u001b[0;34m(\u001b[0m\u001b[0;34m)\u001b[0m\u001b[0;34m:\u001b[0m\u001b[0;34m\u001b[0m\u001b[0;34m\u001b[0m\u001b[0m\n\u001b[1;32m     76\u001b[0m             \u001b[0;32mwith\u001b[0m \u001b[0mamp\u001b[0m\u001b[0;34m.\u001b[0m\u001b[0mautocast\u001b[0m\u001b[0;34m(\u001b[0m\u001b[0mself\u001b[0m\u001b[0;34m.\u001b[0m\u001b[0m_mixed_precision\u001b[0m\u001b[0;34m)\u001b[0m\u001b[0;34m:\u001b[0m\u001b[0;34m\u001b[0m\u001b[0;34m\u001b[0m\u001b[0m\n\u001b[0;32m---> 77\u001b[0;31m                 \u001b[0moutputs\u001b[0m \u001b[0;34m=\u001b[0m \u001b[0mself\u001b[0m\u001b[0;34m.\u001b[0m\u001b[0m_model\u001b[0m\u001b[0;34m(\u001b[0m\u001b[0;34m*\u001b[0m\u001b[0minputs\u001b[0m\u001b[0;34m.\u001b[0m\u001b[0margs\u001b[0m\u001b[0;34m,\u001b[0m \u001b[0;34m**\u001b[0m\u001b[0minputs\u001b[0m\u001b[0;34m.\u001b[0m\u001b[0mkwargs\u001b[0m\u001b[0;34m)\u001b[0m\u001b[0;34m\u001b[0m\u001b[0;34m\u001b[0m\u001b[0m\n\u001b[0m\u001b[1;32m     78\u001b[0m         \u001b[0mself\u001b[0m\u001b[0;34m.\u001b[0m\u001b[0m_model\u001b[0m\u001b[0;34m.\u001b[0m\u001b[0mtrain\u001b[0m\u001b[0;34m(\u001b[0m\u001b[0;34m)\u001b[0m\u001b[0;34m\u001b[0m\u001b[0;34m\u001b[0m\u001b[0m\n\u001b[1;32m     79\u001b[0m         \u001b[0;32mreturn\u001b[0m \u001b[0moutputs\u001b[0m\u001b[0;34m\u001b[0m\u001b[0;34m\u001b[0m\u001b[0m\n",
      "\u001b[0;32m~/anaconda3/lib/python3.9/site-packages/torch/nn/modules/module.py\u001b[0m in \u001b[0;36m_call_impl\u001b[0;34m(self, *input, **kwargs)\u001b[0m\n\u001b[1;32m   1128\u001b[0m         if not (self._backward_hooks or self._forward_hooks or self._forward_pre_hooks or _global_backward_hooks\n\u001b[1;32m   1129\u001b[0m                 or _global_forward_hooks or _global_forward_pre_hooks):\n\u001b[0;32m-> 1130\u001b[0;31m             \u001b[0;32mreturn\u001b[0m \u001b[0mforward_call\u001b[0m\u001b[0;34m(\u001b[0m\u001b[0;34m*\u001b[0m\u001b[0minput\u001b[0m\u001b[0;34m,\u001b[0m \u001b[0;34m**\u001b[0m\u001b[0mkwargs\u001b[0m\u001b[0;34m)\u001b[0m\u001b[0;34m\u001b[0m\u001b[0;34m\u001b[0m\u001b[0m\n\u001b[0m\u001b[1;32m   1131\u001b[0m         \u001b[0;31m# Do not call functions when jit is used\u001b[0m\u001b[0;34m\u001b[0m\u001b[0;34m\u001b[0m\u001b[0m\n\u001b[1;32m   1132\u001b[0m         \u001b[0mfull_backward_hooks\u001b[0m\u001b[0;34m,\u001b[0m \u001b[0mnon_full_backward_hooks\u001b[0m \u001b[0;34m=\u001b[0m \u001b[0;34m[\u001b[0m\u001b[0;34m]\u001b[0m\u001b[0;34m,\u001b[0m \u001b[0;34m[\u001b[0m\u001b[0;34m]\u001b[0m\u001b[0;34m\u001b[0m\u001b[0;34m\u001b[0m\u001b[0m\n",
      "\u001b[0;32m~/anaconda3/lib/python3.9/site-packages/transformers/models/roberta/modeling_roberta.py\u001b[0m in \u001b[0;36mforward\u001b[0;34m(self, input_ids, attention_mask, token_type_ids, position_ids, head_mask, inputs_embeds, encoder_hidden_states, encoder_attention_mask, past_key_values, use_cache, output_attentions, output_hidden_states, return_dict)\u001b[0m\n\u001b[1;32m    849\u001b[0m             \u001b[0mpast_key_values_length\u001b[0m\u001b[0;34m=\u001b[0m\u001b[0mpast_key_values_length\u001b[0m\u001b[0;34m,\u001b[0m\u001b[0;34m\u001b[0m\u001b[0;34m\u001b[0m\u001b[0m\n\u001b[1;32m    850\u001b[0m         )\n\u001b[0;32m--> 851\u001b[0;31m         encoder_outputs = self.encoder(\n\u001b[0m\u001b[1;32m    852\u001b[0m             \u001b[0membedding_output\u001b[0m\u001b[0;34m,\u001b[0m\u001b[0;34m\u001b[0m\u001b[0;34m\u001b[0m\u001b[0m\n\u001b[1;32m    853\u001b[0m             \u001b[0mattention_mask\u001b[0m\u001b[0;34m=\u001b[0m\u001b[0mextended_attention_mask\u001b[0m\u001b[0;34m,\u001b[0m\u001b[0;34m\u001b[0m\u001b[0;34m\u001b[0m\u001b[0m\n",
      "\u001b[0;32m~/anaconda3/lib/python3.9/site-packages/torch/nn/modules/module.py\u001b[0m in \u001b[0;36m_call_impl\u001b[0;34m(self, *input, **kwargs)\u001b[0m\n\u001b[1;32m   1128\u001b[0m         if not (self._backward_hooks or self._forward_hooks or self._forward_pre_hooks or _global_backward_hooks\n\u001b[1;32m   1129\u001b[0m                 or _global_forward_hooks or _global_forward_pre_hooks):\n\u001b[0;32m-> 1130\u001b[0;31m             \u001b[0;32mreturn\u001b[0m \u001b[0mforward_call\u001b[0m\u001b[0;34m(\u001b[0m\u001b[0;34m*\u001b[0m\u001b[0minput\u001b[0m\u001b[0;34m,\u001b[0m \u001b[0;34m**\u001b[0m\u001b[0mkwargs\u001b[0m\u001b[0;34m)\u001b[0m\u001b[0;34m\u001b[0m\u001b[0;34m\u001b[0m\u001b[0m\n\u001b[0m\u001b[1;32m   1131\u001b[0m         \u001b[0;31m# Do not call functions when jit is used\u001b[0m\u001b[0;34m\u001b[0m\u001b[0;34m\u001b[0m\u001b[0m\n\u001b[1;32m   1132\u001b[0m         \u001b[0mfull_backward_hooks\u001b[0m\u001b[0;34m,\u001b[0m \u001b[0mnon_full_backward_hooks\u001b[0m \u001b[0;34m=\u001b[0m \u001b[0;34m[\u001b[0m\u001b[0;34m]\u001b[0m\u001b[0;34m,\u001b[0m \u001b[0;34m[\u001b[0m\u001b[0;34m]\u001b[0m\u001b[0;34m\u001b[0m\u001b[0;34m\u001b[0m\u001b[0m\n",
      "\u001b[0;32m~/anaconda3/lib/python3.9/site-packages/transformers/models/roberta/modeling_roberta.py\u001b[0m in \u001b[0;36mforward\u001b[0;34m(self, hidden_states, attention_mask, head_mask, encoder_hidden_states, encoder_attention_mask, past_key_values, use_cache, output_attentions, output_hidden_states, return_dict)\u001b[0m\n\u001b[1;32m    524\u001b[0m                 )\n\u001b[1;32m    525\u001b[0m             \u001b[0;32melse\u001b[0m\u001b[0;34m:\u001b[0m\u001b[0;34m\u001b[0m\u001b[0;34m\u001b[0m\u001b[0m\n\u001b[0;32m--> 526\u001b[0;31m                 layer_outputs = layer_module(\n\u001b[0m\u001b[1;32m    527\u001b[0m                     \u001b[0mhidden_states\u001b[0m\u001b[0;34m,\u001b[0m\u001b[0;34m\u001b[0m\u001b[0;34m\u001b[0m\u001b[0m\n\u001b[1;32m    528\u001b[0m                     \u001b[0mattention_mask\u001b[0m\u001b[0;34m,\u001b[0m\u001b[0;34m\u001b[0m\u001b[0;34m\u001b[0m\u001b[0m\n",
      "\u001b[0;32m~/anaconda3/lib/python3.9/site-packages/torch/nn/modules/module.py\u001b[0m in \u001b[0;36m_call_impl\u001b[0;34m(self, *input, **kwargs)\u001b[0m\n\u001b[1;32m   1128\u001b[0m         if not (self._backward_hooks or self._forward_hooks or self._forward_pre_hooks or _global_backward_hooks\n\u001b[1;32m   1129\u001b[0m                 or _global_forward_hooks or _global_forward_pre_hooks):\n\u001b[0;32m-> 1130\u001b[0;31m             \u001b[0;32mreturn\u001b[0m \u001b[0mforward_call\u001b[0m\u001b[0;34m(\u001b[0m\u001b[0;34m*\u001b[0m\u001b[0minput\u001b[0m\u001b[0;34m,\u001b[0m \u001b[0;34m**\u001b[0m\u001b[0mkwargs\u001b[0m\u001b[0;34m)\u001b[0m\u001b[0;34m\u001b[0m\u001b[0;34m\u001b[0m\u001b[0m\n\u001b[0m\u001b[1;32m   1131\u001b[0m         \u001b[0;31m# Do not call functions when jit is used\u001b[0m\u001b[0;34m\u001b[0m\u001b[0;34m\u001b[0m\u001b[0m\n\u001b[1;32m   1132\u001b[0m         \u001b[0mfull_backward_hooks\u001b[0m\u001b[0;34m,\u001b[0m \u001b[0mnon_full_backward_hooks\u001b[0m \u001b[0;34m=\u001b[0m \u001b[0;34m[\u001b[0m\u001b[0;34m]\u001b[0m\u001b[0;34m,\u001b[0m \u001b[0;34m[\u001b[0m\u001b[0;34m]\u001b[0m\u001b[0;34m\u001b[0m\u001b[0;34m\u001b[0m\u001b[0m\n",
      "\u001b[0;32m~/anaconda3/lib/python3.9/site-packages/transformers/models/roberta/modeling_roberta.py\u001b[0m in \u001b[0;36mforward\u001b[0;34m(self, hidden_states, attention_mask, head_mask, encoder_hidden_states, encoder_attention_mask, past_key_value, output_attentions)\u001b[0m\n\u001b[1;32m    451\u001b[0m             \u001b[0mpresent_key_value\u001b[0m \u001b[0;34m=\u001b[0m \u001b[0mpresent_key_value\u001b[0m \u001b[0;34m+\u001b[0m \u001b[0mcross_attn_present_key_value\u001b[0m\u001b[0;34m\u001b[0m\u001b[0;34m\u001b[0m\u001b[0m\n\u001b[1;32m    452\u001b[0m \u001b[0;34m\u001b[0m\u001b[0m\n\u001b[0;32m--> 453\u001b[0;31m         layer_output = apply_chunking_to_forward(\n\u001b[0m\u001b[1;32m    454\u001b[0m             \u001b[0mself\u001b[0m\u001b[0;34m.\u001b[0m\u001b[0mfeed_forward_chunk\u001b[0m\u001b[0;34m,\u001b[0m \u001b[0mself\u001b[0m\u001b[0;34m.\u001b[0m\u001b[0mchunk_size_feed_forward\u001b[0m\u001b[0;34m,\u001b[0m \u001b[0mself\u001b[0m\u001b[0;34m.\u001b[0m\u001b[0mseq_len_dim\u001b[0m\u001b[0;34m,\u001b[0m \u001b[0mattention_output\u001b[0m\u001b[0;34m\u001b[0m\u001b[0;34m\u001b[0m\u001b[0m\n\u001b[1;32m    455\u001b[0m         )\n",
      "\u001b[0;32m~/anaconda3/lib/python3.9/site-packages/transformers/modeling_utils.py\u001b[0m in \u001b[0;36mapply_chunking_to_forward\u001b[0;34m(forward_fn, chunk_size, chunk_dim, *input_tensors)\u001b[0m\n\u001b[1;32m   2368\u001b[0m         \u001b[0;32mreturn\u001b[0m \u001b[0mtorch\u001b[0m\u001b[0;34m.\u001b[0m\u001b[0mcat\u001b[0m\u001b[0;34m(\u001b[0m\u001b[0moutput_chunks\u001b[0m\u001b[0;34m,\u001b[0m \u001b[0mdim\u001b[0m\u001b[0;34m=\u001b[0m\u001b[0mchunk_dim\u001b[0m\u001b[0;34m)\u001b[0m\u001b[0;34m\u001b[0m\u001b[0;34m\u001b[0m\u001b[0m\n\u001b[1;32m   2369\u001b[0m \u001b[0;34m\u001b[0m\u001b[0m\n\u001b[0;32m-> 2370\u001b[0;31m     \u001b[0;32mreturn\u001b[0m \u001b[0mforward_fn\u001b[0m\u001b[0;34m(\u001b[0m\u001b[0;34m*\u001b[0m\u001b[0minput_tensors\u001b[0m\u001b[0;34m)\u001b[0m\u001b[0;34m\u001b[0m\u001b[0;34m\u001b[0m\u001b[0m\n\u001b[0m",
      "\u001b[0;32m~/anaconda3/lib/python3.9/site-packages/transformers/models/roberta/modeling_roberta.py\u001b[0m in \u001b[0;36mfeed_forward_chunk\u001b[0;34m(self, attention_output)\u001b[0m\n\u001b[1;32m    464\u001b[0m     \u001b[0;32mdef\u001b[0m \u001b[0mfeed_forward_chunk\u001b[0m\u001b[0;34m(\u001b[0m\u001b[0mself\u001b[0m\u001b[0;34m,\u001b[0m \u001b[0mattention_output\u001b[0m\u001b[0;34m)\u001b[0m\u001b[0;34m:\u001b[0m\u001b[0;34m\u001b[0m\u001b[0;34m\u001b[0m\u001b[0m\n\u001b[1;32m    465\u001b[0m         \u001b[0mintermediate_output\u001b[0m \u001b[0;34m=\u001b[0m \u001b[0mself\u001b[0m\u001b[0;34m.\u001b[0m\u001b[0mintermediate\u001b[0m\u001b[0;34m(\u001b[0m\u001b[0mattention_output\u001b[0m\u001b[0;34m)\u001b[0m\u001b[0;34m\u001b[0m\u001b[0;34m\u001b[0m\u001b[0m\n\u001b[0;32m--> 466\u001b[0;31m         \u001b[0mlayer_output\u001b[0m \u001b[0;34m=\u001b[0m \u001b[0mself\u001b[0m\u001b[0;34m.\u001b[0m\u001b[0moutput\u001b[0m\u001b[0;34m(\u001b[0m\u001b[0mintermediate_output\u001b[0m\u001b[0;34m,\u001b[0m \u001b[0mattention_output\u001b[0m\u001b[0;34m)\u001b[0m\u001b[0;34m\u001b[0m\u001b[0;34m\u001b[0m\u001b[0m\n\u001b[0m\u001b[1;32m    467\u001b[0m         \u001b[0;32mreturn\u001b[0m \u001b[0mlayer_output\u001b[0m\u001b[0;34m\u001b[0m\u001b[0;34m\u001b[0m\u001b[0m\n\u001b[1;32m    468\u001b[0m \u001b[0;34m\u001b[0m\u001b[0m\n",
      "\u001b[0;32m~/anaconda3/lib/python3.9/site-packages/torch/nn/modules/module.py\u001b[0m in \u001b[0;36m_call_impl\u001b[0;34m(self, *input, **kwargs)\u001b[0m\n\u001b[1;32m   1128\u001b[0m         if not (self._backward_hooks or self._forward_hooks or self._forward_pre_hooks or _global_backward_hooks\n\u001b[1;32m   1129\u001b[0m                 or _global_forward_hooks or _global_forward_pre_hooks):\n\u001b[0;32m-> 1130\u001b[0;31m             \u001b[0;32mreturn\u001b[0m \u001b[0mforward_call\u001b[0m\u001b[0;34m(\u001b[0m\u001b[0;34m*\u001b[0m\u001b[0minput\u001b[0m\u001b[0;34m,\u001b[0m \u001b[0;34m**\u001b[0m\u001b[0mkwargs\u001b[0m\u001b[0;34m)\u001b[0m\u001b[0;34m\u001b[0m\u001b[0;34m\u001b[0m\u001b[0m\n\u001b[0m\u001b[1;32m   1131\u001b[0m         \u001b[0;31m# Do not call functions when jit is used\u001b[0m\u001b[0;34m\u001b[0m\u001b[0;34m\u001b[0m\u001b[0m\n\u001b[1;32m   1132\u001b[0m         \u001b[0mfull_backward_hooks\u001b[0m\u001b[0;34m,\u001b[0m \u001b[0mnon_full_backward_hooks\u001b[0m \u001b[0;34m=\u001b[0m \u001b[0;34m[\u001b[0m\u001b[0;34m]\u001b[0m\u001b[0;34m,\u001b[0m \u001b[0;34m[\u001b[0m\u001b[0;34m]\u001b[0m\u001b[0;34m\u001b[0m\u001b[0;34m\u001b[0m\u001b[0m\n",
      "\u001b[0;32m~/anaconda3/lib/python3.9/site-packages/transformers/models/roberta/modeling_roberta.py\u001b[0m in \u001b[0;36mforward\u001b[0;34m(self, hidden_states, input_tensor)\u001b[0m\n\u001b[1;32m    376\u001b[0m \u001b[0;34m\u001b[0m\u001b[0m\n\u001b[1;32m    377\u001b[0m     \u001b[0;32mdef\u001b[0m \u001b[0mforward\u001b[0m\u001b[0;34m(\u001b[0m\u001b[0mself\u001b[0m\u001b[0;34m,\u001b[0m \u001b[0mhidden_states\u001b[0m\u001b[0;34m,\u001b[0m \u001b[0minput_tensor\u001b[0m\u001b[0;34m)\u001b[0m\u001b[0;34m:\u001b[0m\u001b[0;34m\u001b[0m\u001b[0;34m\u001b[0m\u001b[0m\n\u001b[0;32m--> 378\u001b[0;31m         \u001b[0mhidden_states\u001b[0m \u001b[0;34m=\u001b[0m \u001b[0mself\u001b[0m\u001b[0;34m.\u001b[0m\u001b[0mdense\u001b[0m\u001b[0;34m(\u001b[0m\u001b[0mhidden_states\u001b[0m\u001b[0;34m)\u001b[0m\u001b[0;34m\u001b[0m\u001b[0;34m\u001b[0m\u001b[0m\n\u001b[0m\u001b[1;32m    379\u001b[0m         \u001b[0mhidden_states\u001b[0m \u001b[0;34m=\u001b[0m \u001b[0mself\u001b[0m\u001b[0;34m.\u001b[0m\u001b[0mdropout\u001b[0m\u001b[0;34m(\u001b[0m\u001b[0mhidden_states\u001b[0m\u001b[0;34m)\u001b[0m\u001b[0;34m\u001b[0m\u001b[0;34m\u001b[0m\u001b[0m\n\u001b[1;32m    380\u001b[0m         \u001b[0mhidden_states\u001b[0m \u001b[0;34m=\u001b[0m \u001b[0mself\u001b[0m\u001b[0;34m.\u001b[0m\u001b[0mLayerNorm\u001b[0m\u001b[0;34m(\u001b[0m\u001b[0mhidden_states\u001b[0m \u001b[0;34m+\u001b[0m \u001b[0minput_tensor\u001b[0m\u001b[0;34m)\u001b[0m\u001b[0;34m\u001b[0m\u001b[0;34m\u001b[0m\u001b[0m\n",
      "\u001b[0;32m~/anaconda3/lib/python3.9/site-packages/torch/nn/modules/module.py\u001b[0m in \u001b[0;36m_call_impl\u001b[0;34m(self, *input, **kwargs)\u001b[0m\n\u001b[1;32m   1128\u001b[0m         if not (self._backward_hooks or self._forward_hooks or self._forward_pre_hooks or _global_backward_hooks\n\u001b[1;32m   1129\u001b[0m                 or _global_forward_hooks or _global_forward_pre_hooks):\n\u001b[0;32m-> 1130\u001b[0;31m             \u001b[0;32mreturn\u001b[0m \u001b[0mforward_call\u001b[0m\u001b[0;34m(\u001b[0m\u001b[0;34m*\u001b[0m\u001b[0minput\u001b[0m\u001b[0;34m,\u001b[0m \u001b[0;34m**\u001b[0m\u001b[0mkwargs\u001b[0m\u001b[0;34m)\u001b[0m\u001b[0;34m\u001b[0m\u001b[0;34m\u001b[0m\u001b[0m\n\u001b[0m\u001b[1;32m   1131\u001b[0m         \u001b[0;31m# Do not call functions when jit is used\u001b[0m\u001b[0;34m\u001b[0m\u001b[0;34m\u001b[0m\u001b[0m\n\u001b[1;32m   1132\u001b[0m         \u001b[0mfull_backward_hooks\u001b[0m\u001b[0;34m,\u001b[0m \u001b[0mnon_full_backward_hooks\u001b[0m \u001b[0;34m=\u001b[0m \u001b[0;34m[\u001b[0m\u001b[0;34m]\u001b[0m\u001b[0;34m,\u001b[0m \u001b[0;34m[\u001b[0m\u001b[0;34m]\u001b[0m\u001b[0;34m\u001b[0m\u001b[0;34m\u001b[0m\u001b[0m\n",
      "\u001b[0;32m~/anaconda3/lib/python3.9/site-packages/torch/nn/modules/linear.py\u001b[0m in \u001b[0;36mforward\u001b[0;34m(self, input)\u001b[0m\n\u001b[1;32m    112\u001b[0m \u001b[0;34m\u001b[0m\u001b[0m\n\u001b[1;32m    113\u001b[0m     \u001b[0;32mdef\u001b[0m \u001b[0mforward\u001b[0m\u001b[0;34m(\u001b[0m\u001b[0mself\u001b[0m\u001b[0;34m,\u001b[0m \u001b[0minput\u001b[0m\u001b[0;34m:\u001b[0m \u001b[0mTensor\u001b[0m\u001b[0;34m)\u001b[0m \u001b[0;34m->\u001b[0m \u001b[0mTensor\u001b[0m\u001b[0;34m:\u001b[0m\u001b[0;34m\u001b[0m\u001b[0;34m\u001b[0m\u001b[0m\n\u001b[0;32m--> 114\u001b[0;31m         \u001b[0;32mreturn\u001b[0m \u001b[0mF\u001b[0m\u001b[0;34m.\u001b[0m\u001b[0mlinear\u001b[0m\u001b[0;34m(\u001b[0m\u001b[0minput\u001b[0m\u001b[0;34m,\u001b[0m \u001b[0mself\u001b[0m\u001b[0;34m.\u001b[0m\u001b[0mweight\u001b[0m\u001b[0;34m,\u001b[0m \u001b[0mself\u001b[0m\u001b[0;34m.\u001b[0m\u001b[0mbias\u001b[0m\u001b[0;34m)\u001b[0m\u001b[0;34m\u001b[0m\u001b[0;34m\u001b[0m\u001b[0m\n\u001b[0m\u001b[1;32m    115\u001b[0m \u001b[0;34m\u001b[0m\u001b[0m\n\u001b[1;32m    116\u001b[0m     \u001b[0;32mdef\u001b[0m \u001b[0mextra_repr\u001b[0m\u001b[0;34m(\u001b[0m\u001b[0mself\u001b[0m\u001b[0;34m)\u001b[0m \u001b[0;34m->\u001b[0m \u001b[0mstr\u001b[0m\u001b[0;34m:\u001b[0m\u001b[0;34m\u001b[0m\u001b[0;34m\u001b[0m\u001b[0m\n",
      "\u001b[0;31mKeyboardInterrupt\u001b[0m: "
     ]
    }
   ],
   "source": [
    "for judgement in tqdm(judgement_paths_assam[case_dfs[0].case_id.nunique():]):\n",
    "    judgement_text = open(judgement).read()\n",
    "    #Get Case_ID \n",
    "    case_id = judgement.split(r'/')[-1].split('.txt')[0]\n",
    "    \n",
    "    # load your text files directly into this\n",
    "    texts_to_process = [judgement_text]\n",
    "    # create Data object for data  preprocessing before running ML models\n",
    "    data = Data(texts_to_process, preprocessing_nlp_model='en_core_web_trf')\n",
    "    \n",
    "    # Load NER model\n",
    "    pipeline = Pipeline(components=['NER'], use_gpu=False, verbose=True,\n",
    "                   ner_model_name='en_legal_ner_trf',\n",
    "                   ner_mini_batch_size=40000,\n",
    "                   ner_do_sentence_level=True,\n",
    "                   ner_do_postprocess=True,\n",
    "                   ner_statute_shortforms_path='')\n",
    "    \n",
    "    results = pipeline(data)\n",
    "    ner_doc_1 = pipeline._ner_model_output[0]\n",
    "    \n",
    "    #Get Provisions recognised in the judgement\n",
    "    provisions=get_unique_provision_count(ner_doc_1)\n",
    "    provisions_df = pd.DataFrame(provisions.items())\n",
    "    provisions_df.columns = ['provision_opennyai','freq']\n",
    "    \n",
    "    # Clean Provisions and Statute text\n",
    "    provisions_df['provision_opennyai'] = provisions_df['provision_opennyai'].str.lower().replace('section', 's', regex=True)\n",
    "    provisions_df = provisions_df.groupby('provision_opennyai')[['freq']].sum().reset_index()\n",
    "    provisions_df['statute_opennyai'] = ''\n",
    "    \n",
    "    for index, row in provisions_df.iterrows():\n",
    "        statute = row['provision_opennyai'].split('of',1)[-1].strip().title()\n",
    "        statute = statute.replace('Protection Of Children From Sexual Offences','POCSO')    \n",
    "        provision = row['provision_opennyai'].split('of',1)[0].strip().title()\n",
    "        provision = provision.replace('As Well As',r'/')\n",
    "        provisions_df.loc[index,'statute_opennyai'] = statute\n",
    "        provisions_df.loc[index,'provision_opennyai'] = provision.replace('S.','').strip()\n",
    "        provisions_df.loc[index,'provision_opennyai'] = provision.replace('S','').strip()\n",
    "    \n",
    "    #Concatenate all provisions of a statute \n",
    "    provisions_df = provisions_df.groupby(['statute_opennyai'])['provision_opennyai'].apply(list).reset_index()\n",
    "    provisions_df['case_id'] = case_id\n",
    "    provisions_df = provisions_df[['case_id', 'statute_opennyai', 'provision_opennyai']]\n",
    "    \n",
    "    # Get Provisions and Statute information from parsed meta data\n",
    "    folder_path = judgement.split(r'/')\n",
    "    folder_path.pop()\n",
    "    case_metadata_json = r\"/\".join(folder_path)+\"/\"+case_id+\"_parsed.json\"\n",
    "    with open(case_metadata_json) as file:\n",
    "        data = json.load(file)\n",
    "    \n",
    "    sections_df = pd.DataFrame(data['acts'])\n",
    "    sections_df.columns = ['statute_metadata','provision_metadata']\n",
    "    sections_df['case_id_meta'] = case_id\n",
    "    \n",
    "    # Concatenate Opennyai data and metadata\n",
    "    df = pd.concat([provisions_df,sections_df], axis=1)\n",
    "    df = df.drop('case_id_meta',axis=1)\n",
    "    case_dfs.append(df)\n",
    "    pd.concat(case_dfs).to_csv('POCSO.csv',index=False)"
   ]
  },
  {
   "cell_type": "code",
   "execution_count": null,
   "id": "e3c5ce50",
   "metadata": {},
   "outputs": [],
   "source": []
  },
  {
   "cell_type": "code",
   "execution_count": null,
   "id": "207153a1",
   "metadata": {},
   "outputs": [],
   "source": []
  },
  {
   "cell_type": "code",
   "execution_count": null,
   "id": "f10b81fc",
   "metadata": {},
   "outputs": [],
   "source": []
  },
  {
   "cell_type": "code",
   "execution_count": null,
   "id": "715745fe",
   "metadata": {},
   "outputs": [],
   "source": []
  },
  {
   "cell_type": "code",
   "execution_count": null,
   "id": "54f6c900",
   "metadata": {},
   "outputs": [],
   "source": []
  },
  {
   "cell_type": "code",
   "execution_count": null,
   "id": "c8aa8e0e",
   "metadata": {},
   "outputs": [],
   "source": []
  },
  {
   "cell_type": "code",
   "execution_count": null,
   "id": "85251fd6",
   "metadata": {},
   "outputs": [],
   "source": []
  },
  {
   "cell_type": "code",
   "execution_count": null,
   "id": "ba2d83fb",
   "metadata": {},
   "outputs": [],
   "source": [
    "# Frequency count of all statues in a judgement\n",
    "from opennyai.ner import get_unique_statute_count\n",
    "statutes=get_unique_statute_count(ner_doc_1)\n",
    "statutes"
   ]
  },
  {
   "cell_type": "code",
   "execution_count": null,
   "id": "20f63279",
   "metadata": {},
   "outputs": [],
   "source": [
    "# Frequency count of all provisions in a judgement\n",
    "from opennyai.ner import get_unique_provision_count\n",
    "provisions=get_unique_provision_count(ner_doc_1)\n",
    "provisions"
   ]
  },
  {
   "cell_type": "code",
   "execution_count": null,
   "id": "5fa6e0b9",
   "metadata": {},
   "outputs": [],
   "source": [
    "provisions_df = pd.DataFrame(provisions.items())\n",
    "provisions_df.columns = ['provision','freq']\n",
    "provisions_df['provision'] = provisions_df['provision'].str.lower().replace('section', 's', regex=True)"
   ]
  },
  {
   "cell_type": "code",
   "execution_count": null,
   "id": "c8afca1b",
   "metadata": {},
   "outputs": [],
   "source": [
    "provisions_df = provisions_df.groupby('provision')[['freq']].sum().reset_index()\n",
    "provisions_df['statute'] = ''"
   ]
  },
  {
   "cell_type": "code",
   "execution_count": null,
   "id": "991b7f38",
   "metadata": {},
   "outputs": [],
   "source": [
    "for index, row in provisions_df.iterrows():\n",
    "    statute = row['provision'].split('of',1)[-1].strip().title()\n",
    "    statute = statute.replace('Protection Of Children From Sexual Offences','POCSO')\n",
    "    \n",
    "    provision = row['provision'].split('of',1)[0].strip().title()\n",
    "    provision = provision.replace('As Well As',r'/')\n",
    "    provisions_df.loc[index,'statute'] = statute\n",
    "    provisions_df.loc[index,'provision'] = provision"
   ]
  },
  {
   "cell_type": "code",
   "execution_count": null,
   "id": "50bf82fb",
   "metadata": {},
   "outputs": [],
   "source": [
    "provisions_df"
   ]
  },
  {
   "cell_type": "code",
   "execution_count": null,
   "id": "561e68e8",
   "metadata": {},
   "outputs": [],
   "source": [
    "provisions_df = provisions_df.groupby(['statute'])['provision'].apply(list).reset_index()\n",
    "provisions_df"
   ]
  },
  {
   "cell_type": "code",
   "execution_count": null,
   "id": "c694ab5e",
   "metadata": {},
   "outputs": [],
   "source": [
    "provisions_df['case_id'] = case_id"
   ]
  },
  {
   "cell_type": "code",
   "execution_count": null,
   "id": "37485bf7",
   "metadata": {},
   "outputs": [],
   "source": [
    "provisions_df"
   ]
  },
  {
   "cell_type": "code",
   "execution_count": null,
   "id": "1b0c520d",
   "metadata": {},
   "outputs": [],
   "source": [
    "l = judgment.split(r'/')\n",
    "l.pop()\n",
    "case_metadata_json = r\"/\".join(l)+\"/\"+case_id+\"_parsed.json\"\n",
    "\n",
    "import json\n",
    "with open(case_metadata_json) as file:\n",
    "    data = json.load(file)"
   ]
  },
  {
   "cell_type": "code",
   "execution_count": null,
   "id": "1ec64529",
   "metadata": {},
   "outputs": [],
   "source": [
    "sections_df = pd.DataFrame(data['acts'])\n",
    "sections_df.columns = ['statute_meta','provision_meta']\n",
    "sections_df['case_id_meta'] = case_id"
   ]
  },
  {
   "cell_type": "code",
   "execution_count": null,
   "id": "613b5ef0",
   "metadata": {},
   "outputs": [],
   "source": []
  },
  {
   "cell_type": "code",
   "execution_count": null,
   "id": "0f9ebcde",
   "metadata": {},
   "outputs": [],
   "source": [
    "k = pd.concat([provisions_df,sections_df], axis=1)"
   ]
  },
  {
   "cell_type": "code",
   "execution_count": null,
   "id": "38e4381b",
   "metadata": {},
   "outputs": [],
   "source": [
    "k.drop('case_id_meta',axis=1)"
   ]
  },
  {
   "cell_type": "markdown",
   "id": "51eddc93",
   "metadata": {},
   "source": [
    "# Limitations\n",
    "1. The judgements are converted from PDFs to txt formats. The PDFs often contains official stamps and other symbols, which when converted into txt become a dirty group of letters. This made a couple of sentences in each page incomprehensible. The recognition of entities could be affected in these sentences."
   ]
  },
  {
   "cell_type": "code",
   "execution_count": null,
   "id": "33d0cd7f",
   "metadata": {},
   "outputs": [],
   "source": []
  }
 ],
 "metadata": {
  "kernelspec": {
   "display_name": "Python 3 (ipykernel)",
   "language": "python",
   "name": "python3"
  },
  "language_info": {
   "codemirror_mode": {
    "name": "ipython",
    "version": 3
   },
   "file_extension": ".py",
   "mimetype": "text/x-python",
   "name": "python",
   "nbconvert_exporter": "python",
   "pygments_lexer": "ipython3",
   "version": "3.9.13"
  }
 },
 "nbformat": 4,
 "nbformat_minor": 5
}
