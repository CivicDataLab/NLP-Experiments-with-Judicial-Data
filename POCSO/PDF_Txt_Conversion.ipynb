{
 "cells": [
  {
   "cell_type": "markdown",
   "id": "6a4bd28a",
   "metadata": {},
   "source": [
    "# Converting PDF to Txt\n",
    "This code is to convert all judgement PDFs into txt format"
   ]
  },
  {
   "cell_type": "code",
   "execution_count": null,
   "id": "2e409200",
   "metadata": {},
   "outputs": [],
   "source": [
    "import os\n",
    "import shutil\n",
    "import glob\n",
    "from natsort import natsorted\n",
    "\n",
    "from tqdm import tqdm\n",
    "import pandas as pd\n",
    "\n",
    "from pdf2image import convert_from_path\n",
    "import pytesseract\n",
    "from PIL import Image, ImageEnhance, ImageFilter"
   ]
  },
  {
   "cell_type": "code",
   "execution_count": null,
   "id": "505ad645",
   "metadata": {},
   "outputs": [],
   "source": [
    "# Make a list of all paths of all PDFs in the directory\n",
    "judgement_paths_assam = []\n",
    "path =\"Assam\"\n",
    "for root, dirs, files in os.walk(path):\n",
    "    for file in files:\n",
    "        if(file.endswith(\".pdf\")):\n",
    "            judgement_paths_assam.append(os.path.join(root,file))\n",
    "            \n",
    "            \n",
    "# Selecting only those PDFs that are judgements\n",
    "judgements = []\n",
    "for judgement in judgement_paths_assam:\n",
    "    if ('judgment' in judgement.lower()):\n",
    "        judgements.append(judgement)"
   ]
  },
  {
   "cell_type": "code",
   "execution_count": null,
   "id": "1b039ae4",
   "metadata": {},
   "outputs": [],
   "source": [
    "len(judgements)"
   ]
  },
  {
   "cell_type": "code",
   "execution_count": null,
   "id": "0629775e",
   "metadata": {},
   "outputs": [],
   "source": [
    "## Convert Judgment PDFs into txts\n",
    "converted_cases = []\n",
    "for judgement in tqdm(judgements):\n",
    "    case_id = judgement.split(r'/')[-1].split('_')[0]\n",
    "    if case_id in converted_cases:\n",
    "        continue\n",
    "        \n",
    "    folder_path = judgement.split(r'/')\n",
    "    folder_path.pop()\n",
    "    folder_path = r\"/\".join(folder_path)+\"/\"\n",
    "\n",
    "    pages = convert_from_path(judgement, 350, output_folder='/home/krishna/NLP_Justice/POCSO/tmp')\n",
    "    \n",
    "    i = 1\n",
    "    for page in pages:\n",
    "        image_name = \"Page_\" + str(i) + \".jpg\"  \n",
    "        page.save(image_name, \"JPEG\")\n",
    "        i = i+1\n",
    "    shutil.rmtree('tmp')\n",
    "    os.makedirs('tmp')\n",
    "        \n",
    "    pics = glob.glob(\"*.jpg\")\n",
    "    pics = natsorted(pics)\n",
    "    \n",
    "    judgement_text = ''\n",
    "    for pic in pics:\n",
    "        text = pytesseract.image_to_string(Image.open(pic))\n",
    "        os.remove(pic)\n",
    "        judgement_text = judgement_text + text\n",
    "    \n",
    "    with open(folder_path+case_id+'.txt', 'w') as f:\n",
    "        f.write(judgement_text)\n",
    "        \n",
    "    converted_cases.append(case_id)"
   ]
  },
  {
   "cell_type": "code",
   "execution_count": null,
   "id": "56a56766",
   "metadata": {},
   "outputs": [],
   "source": []
  }
 ],
 "metadata": {
  "kernelspec": {
   "display_name": "Python 3 (ipykernel)",
   "language": "python",
   "name": "python3"
  },
  "language_info": {
   "codemirror_mode": {
    "name": "ipython",
    "version": 3
   },
   "file_extension": ".py",
   "mimetype": "text/x-python",
   "name": "python",
   "nbconvert_exporter": "python",
   "pygments_lexer": "ipython3",
   "version": "3.9.13"
  }
 },
 "nbformat": 4,
 "nbformat_minor": 5
}
